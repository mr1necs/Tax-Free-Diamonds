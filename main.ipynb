{
 "nbformat": 4,
 "nbformat_minor": 0,
 "metadata": {
  "colab": {
   "provenance": []
  },
  "kernelspec": {
   "name": "python3",
   "display_name": "Python 3 (ipykernel)",
   "language": "python"
  },
  "language_info": {
   "name": "python"
  }
 },
 "cells": [
  {
   "cell_type": "markdown",
   "source": [
    "# Проект"
   ],
   "metadata": {
    "id": "jyJswrIfpbmA"
   }
  },
  {
   "cell_type": "markdown",
   "source": [
    "## Регрессия"
   ],
   "metadata": {
    "id": "r_lVVaJl2Ncb"
   }
  },
  {
   "cell_type": "markdown",
   "source": [
    "С 1 октября НДС на бриллианты отменяется, что делает их новым инвестиционным инструментом. Давайте создадим для них модель ценообразования. Dataset содержит характеристики бриллиантов и цены на них с сайта jamesallen (B2C-платформа) по состоянию на 2022-07-01\n",
    "\n",
    "**Описание характеристик**\n",
    "\n",
    "* fluor - флюоресценция (свойство драгоценного камня светиться) \n",
    "* symmetry - показатель симметрии\n",
    "* platform - название платформы, на которой был размещен драгоценный камень\n",
    "* shape - форма\n",
    "* color - цвет\n",
    "* clarity - чистота\n",
    "* cut - качество огранки (может быть только для круглых камней)\n",
    "* polish - полировка\n",
    "* id - номер драгоценного камня\n",
    "* date - дата\n",
    "* price - цена\n",
    "* carat - количество каратов\n",
    "* price_per_carat - цена за карат\n",
    "* z - длина (диаметр)\n",
    "* x - ширина\n",
    "* depth_perc - отношение высоты к ширине\n",
    "* y - высота"
   ],
   "metadata": {
    "id": "XjOCpvogZ2dR"
   }
  },
  {
   "cell_type": "code",
   "source": [
    "import pandas as pd\n",
    "import numpy as np"
   ],
   "metadata": {
    "id": "iOnp-6t565z8",
    "ExecuteTime": {
     "end_time": "2025-01-12T08:33:34.273877Z",
     "start_time": "2025-01-12T08:33:34.267623Z"
    }
   },
   "outputs": [],
   "execution_count": 61
  },
  {
   "cell_type": "code",
   "source": [
    "df = pd.read_csv('diamonds.csv')\n",
    "df.head()"
   ],
   "metadata": {
    "id": "iG7MP6VZ2UZN",
    "ExecuteTime": {
     "end_time": "2025-01-12T08:33:34.757916Z",
     "start_time": "2025-01-12T08:33:34.551636Z"
    }
   },
   "outputs": [
    {
     "data": {
      "text/plain": [
       "   Unnamed: 0 fluor symmetry    platform shape color clarity  cut polish  \\\n",
       "0      135269  NONE       EX  jamesallen    PS     F     SI1  NaN     EX   \n",
       "1       48477   MED       EX  jamesallen    RD     H    VVS2   EX     EX   \n",
       "2      236786  NONE       EX  jamesallen    EM     H      IF  NaN     EX   \n",
       "3      235781  NONE       EX  jamesallen    RD     E     VS2   EX     EX   \n",
       "4      277744  NONE       VG  jamesallen    RD     F     VS1   VG     EX   \n",
       "\n",
       "         id    date    price  carat  price_per_carat      z     x  depth_perc  \\\n",
       "0  13870838  202206  12850.0   1.55          8290.32  10.29  6.41        62.0   \n",
       "1  11725253  202207   7510.0   1.02          7362.75   6.41  6.45        62.5   \n",
       "2  14444347  202205  21220.0   2.01         10557.21   8.60  6.37        65.0   \n",
       "3  14438434  202207   8660.0   1.00          8660.00   6.39  6.44        61.4   \n",
       "4  14615276  202206   8480.0   1.00          8480.00   6.28  6.36        62.3   \n",
       "\n",
       "         y  \n",
       "0  3.97420  \n",
       "1  4.03125  \n",
       "2  4.14050  \n",
       "3  3.95416  \n",
       "4  3.96228  "
      ],
      "text/html": [
       "<div>\n",
       "<style scoped>\n",
       "    .dataframe tbody tr th:only-of-type {\n",
       "        vertical-align: middle;\n",
       "    }\n",
       "\n",
       "    .dataframe tbody tr th {\n",
       "        vertical-align: top;\n",
       "    }\n",
       "\n",
       "    .dataframe thead th {\n",
       "        text-align: right;\n",
       "    }\n",
       "</style>\n",
       "<table border=\"1\" class=\"dataframe\">\n",
       "  <thead>\n",
       "    <tr style=\"text-align: right;\">\n",
       "      <th></th>\n",
       "      <th>Unnamed: 0</th>\n",
       "      <th>fluor</th>\n",
       "      <th>symmetry</th>\n",
       "      <th>platform</th>\n",
       "      <th>shape</th>\n",
       "      <th>color</th>\n",
       "      <th>clarity</th>\n",
       "      <th>cut</th>\n",
       "      <th>polish</th>\n",
       "      <th>id</th>\n",
       "      <th>date</th>\n",
       "      <th>price</th>\n",
       "      <th>carat</th>\n",
       "      <th>price_per_carat</th>\n",
       "      <th>z</th>\n",
       "      <th>x</th>\n",
       "      <th>depth_perc</th>\n",
       "      <th>y</th>\n",
       "    </tr>\n",
       "  </thead>\n",
       "  <tbody>\n",
       "    <tr>\n",
       "      <th>0</th>\n",
       "      <td>135269</td>\n",
       "      <td>NONE</td>\n",
       "      <td>EX</td>\n",
       "      <td>jamesallen</td>\n",
       "      <td>PS</td>\n",
       "      <td>F</td>\n",
       "      <td>SI1</td>\n",
       "      <td>NaN</td>\n",
       "      <td>EX</td>\n",
       "      <td>13870838</td>\n",
       "      <td>202206</td>\n",
       "      <td>12850.0</td>\n",
       "      <td>1.55</td>\n",
       "      <td>8290.32</td>\n",
       "      <td>10.29</td>\n",
       "      <td>6.41</td>\n",
       "      <td>62.0</td>\n",
       "      <td>3.97420</td>\n",
       "    </tr>\n",
       "    <tr>\n",
       "      <th>1</th>\n",
       "      <td>48477</td>\n",
       "      <td>MED</td>\n",
       "      <td>EX</td>\n",
       "      <td>jamesallen</td>\n",
       "      <td>RD</td>\n",
       "      <td>H</td>\n",
       "      <td>VVS2</td>\n",
       "      <td>EX</td>\n",
       "      <td>EX</td>\n",
       "      <td>11725253</td>\n",
       "      <td>202207</td>\n",
       "      <td>7510.0</td>\n",
       "      <td>1.02</td>\n",
       "      <td>7362.75</td>\n",
       "      <td>6.41</td>\n",
       "      <td>6.45</td>\n",
       "      <td>62.5</td>\n",
       "      <td>4.03125</td>\n",
       "    </tr>\n",
       "    <tr>\n",
       "      <th>2</th>\n",
       "      <td>236786</td>\n",
       "      <td>NONE</td>\n",
       "      <td>EX</td>\n",
       "      <td>jamesallen</td>\n",
       "      <td>EM</td>\n",
       "      <td>H</td>\n",
       "      <td>IF</td>\n",
       "      <td>NaN</td>\n",
       "      <td>EX</td>\n",
       "      <td>14444347</td>\n",
       "      <td>202205</td>\n",
       "      <td>21220.0</td>\n",
       "      <td>2.01</td>\n",
       "      <td>10557.21</td>\n",
       "      <td>8.60</td>\n",
       "      <td>6.37</td>\n",
       "      <td>65.0</td>\n",
       "      <td>4.14050</td>\n",
       "    </tr>\n",
       "    <tr>\n",
       "      <th>3</th>\n",
       "      <td>235781</td>\n",
       "      <td>NONE</td>\n",
       "      <td>EX</td>\n",
       "      <td>jamesallen</td>\n",
       "      <td>RD</td>\n",
       "      <td>E</td>\n",
       "      <td>VS2</td>\n",
       "      <td>EX</td>\n",
       "      <td>EX</td>\n",
       "      <td>14438434</td>\n",
       "      <td>202207</td>\n",
       "      <td>8660.0</td>\n",
       "      <td>1.00</td>\n",
       "      <td>8660.00</td>\n",
       "      <td>6.39</td>\n",
       "      <td>6.44</td>\n",
       "      <td>61.4</td>\n",
       "      <td>3.95416</td>\n",
       "    </tr>\n",
       "    <tr>\n",
       "      <th>4</th>\n",
       "      <td>277744</td>\n",
       "      <td>NONE</td>\n",
       "      <td>VG</td>\n",
       "      <td>jamesallen</td>\n",
       "      <td>RD</td>\n",
       "      <td>F</td>\n",
       "      <td>VS1</td>\n",
       "      <td>VG</td>\n",
       "      <td>EX</td>\n",
       "      <td>14615276</td>\n",
       "      <td>202206</td>\n",
       "      <td>8480.0</td>\n",
       "      <td>1.00</td>\n",
       "      <td>8480.00</td>\n",
       "      <td>6.28</td>\n",
       "      <td>6.36</td>\n",
       "      <td>62.3</td>\n",
       "      <td>3.96228</td>\n",
       "    </tr>\n",
       "  </tbody>\n",
       "</table>\n",
       "</div>"
      ]
     },
     "execution_count": 62,
     "metadata": {},
     "output_type": "execute_result"
    }
   ],
   "execution_count": 62
  },
  {
   "metadata": {
    "ExecuteTime": {
     "end_time": "2025-01-12T08:33:35.038835Z",
     "start_time": "2025-01-12T08:33:34.987702Z"
    }
   },
   "cell_type": "code",
   "source": "df.info()",
   "outputs": [
    {
     "name": "stdout",
     "output_type": "stream",
     "text": [
      "<class 'pandas.core.frame.DataFrame'>\n",
      "RangeIndex: 222222 entries, 0 to 222221\n",
      "Data columns (total 18 columns):\n",
      " #   Column           Non-Null Count   Dtype  \n",
      "---  ------           --------------   -----  \n",
      " 0   Unnamed: 0       222222 non-null  int64  \n",
      " 1   fluor            222207 non-null  object \n",
      " 2   symmetry         222218 non-null  object \n",
      " 3   platform         222218 non-null  object \n",
      " 4   shape            222218 non-null  object \n",
      " 5   color            222218 non-null  object \n",
      " 6   clarity          222218 non-null  object \n",
      " 7   cut              148981 non-null  object \n",
      " 8   polish           222218 non-null  object \n",
      " 9   id               222222 non-null  int64  \n",
      " 10  date             222222 non-null  int64  \n",
      " 11  price            222222 non-null  float64\n",
      " 12  carat            222222 non-null  float64\n",
      " 13  price_per_carat  222222 non-null  float64\n",
      " 14  z                222222 non-null  float64\n",
      " 15  x                222222 non-null  float64\n",
      " 16  depth_perc       222222 non-null  float64\n",
      " 17  y                222222 non-null  float64\n",
      "dtypes: float64(7), int64(3), object(8)\n",
      "memory usage: 30.5+ MB\n"
     ]
    }
   ],
   "execution_count": 63
  },
  {
   "cell_type": "markdown",
   "source": [
    "Это нужно для того, чтобы предсказать `price_per_carat`."
   ],
   "metadata": {
    "id": "PD8Sv2_ktIqx"
   }
  },
  {
   "cell_type": "markdown",
   "source": [
    "### Задание 1: Очистка данных\n",
    "Не все драгоценные камни удается продать в течение месяца, поэтому в таблице есть повторы. Объедините данные по каждому самоцвету: подумайте, как лучше это сделать, какую цену взять.\n",
    "\n",
    "**Постарайтесь найти аномалии:** возможно, цена на некоторые самоцветы резко меняется (то есть продавец сам не знает, по какой цене их продавать). Также убедитесь, что другие параметры драгоценного камня не меняются."
   ],
   "metadata": {
    "id": "HEBGHQkD7DWw"
   }
  },
  {
   "cell_type": "code",
   "source": [
    "# Разделим выборку драгоценных камней на две части, встречающиеся 1 раз и которые встречались 2 и более раза\n",
    "df_one = df.query('id.duplicated(keep=False) == False')\n",
    "df_three = df.query('id.duplicated(keep=False) == True')\n",
    "\n",
    "# Удалим аномальные значения и выбросы\n",
    "df_three = df_three.query('price.diff().abs() <= 0.5 * price.mean()', engine='python').sort_values(by=['id', 'date'])\n",
    "\n",
    "# Возьмем в качестве цены последнее по времени значение\n",
    "df_three = df_three.groupby('id').agg('last').reset_index()\n",
    "\n",
    "# Объединим, чтобы получить результат\n",
    "df = pd.concat([df_one, df_three]).reset_index(drop=True)"
   ],
   "metadata": {
    "id": "YUaUjnMVbt-i",
    "ExecuteTime": {
     "end_time": "2025-01-12T08:33:36.949733Z",
     "start_time": "2025-01-12T08:33:36.836079Z"
    }
   },
   "outputs": [],
   "execution_count": 64
  },
  {
   "cell_type": "markdown",
   "source": [
    "Цены на бриллианты колеблются довольно значительно, попробуйте рассчитать уровень инфляции и скорректировать цены на последний месяц. Следует отметить, что не все цены на бриллианты изменяются синхронно, то есть изменение в отдельных группах может быть разным.\n",
    "\n",
    "*Определите эти группы и рассчитайте коэффициенты инфляции для каждой из них. Скорректируйте цены на эти коэффициенты и создайте переменную.*"
   ],
   "metadata": {
    "id": "NnsNVat_CIPB"
   }
  },
  {
   "cell_type": "code",
   "source": [
    "# Определим группы, по которым будет сегментироваться инфляция\n",
    "categories = ['color', 'clarity', 'carat']  # примеры категорий, включая группу каратов\n",
    "\n",
    "# Ценовой индекс\n",
    "df_index = df.groupby(['date'] + categories)[['price']].mean().reset_index()\n",
    "\n",
    "# Сопоставление групп с максимальной датой\n",
    "date_max = df_index.date.max()  # последняя дата\n",
    "df_index = df_index.merge(\n",
    "    df_index.query('date == @date_max')[categories + ['price']].rename(columns={'price': 'price_per_carat_max'}),\n",
    "    on=categories, how='outer'\n",
    ")\n",
    "\n",
    "# Расчет инфляции\n",
    "df_index['inflation'] = df_index['price_per_carat_max'] / df_index['price']\n",
    "\n",
    "# Объединение всех данных в одну таблицу\n",
    "df_with_inf = df.merge(df_index[['date'] + categories + ['inflation']], on=['date'] + categories, how='left')\n",
    "df_with_inf.head()"
   ],
   "metadata": {
    "id": "OPvHv0yce362",
    "ExecuteTime": {
     "end_time": "2025-01-12T08:36:58.683941Z",
     "start_time": "2025-01-12T08:36:58.593445Z"
    }
   },
   "outputs": [
    {
     "data": {
      "text/plain": [
       "   Unnamed: 0 fluor symmetry    platform shape color clarity  cut polish  \\\n",
       "0      189202  NONE       EX  jamesallen    PS     D     SI2  NaN     EX   \n",
       "1       76462  NONE       VG  jamesallen    EM     K     SI2  NaN     VG   \n",
       "2       72397  NONE       VG  jamesallen    PS     J     VS1  NaN     VG   \n",
       "3      269475   MED       EX  jamesallen    RD     J     SI2   EX     EX   \n",
       "4      321928  NONE       EX  jamesallen    RD     G     SI1   EX     EX   \n",
       "\n",
       "         id    date    price  carat  price_per_carat      z     x  depth_perc  \\\n",
       "0  14224443  202205   9120.0   1.51          6039.74  10.67  6.23        59.0   \n",
       "1  12902293  202205   1390.0   0.91          1527.47   6.30  4.58        71.0   \n",
       "2  12771762  202207  15990.0   2.27          7044.05  11.66  7.26        62.2   \n",
       "3  14584509  202205   3700.0   1.01          3663.37   6.37  6.42        62.0   \n",
       "4  14773748  202206   7170.0   1.00          7170.00   6.30  6.35        63.7   \n",
       "\n",
       "         y  inflation  \n",
       "0  3.67570   0.962390  \n",
       "1  3.25180   0.881565  \n",
       "2  4.51572   1.000000  \n",
       "3  3.98040   1.079663  \n",
       "4  4.04495   1.054515  "
      ],
      "text/html": [
       "<div>\n",
       "<style scoped>\n",
       "    .dataframe tbody tr th:only-of-type {\n",
       "        vertical-align: middle;\n",
       "    }\n",
       "\n",
       "    .dataframe tbody tr th {\n",
       "        vertical-align: top;\n",
       "    }\n",
       "\n",
       "    .dataframe thead th {\n",
       "        text-align: right;\n",
       "    }\n",
       "</style>\n",
       "<table border=\"1\" class=\"dataframe\">\n",
       "  <thead>\n",
       "    <tr style=\"text-align: right;\">\n",
       "      <th></th>\n",
       "      <th>Unnamed: 0</th>\n",
       "      <th>fluor</th>\n",
       "      <th>symmetry</th>\n",
       "      <th>platform</th>\n",
       "      <th>shape</th>\n",
       "      <th>color</th>\n",
       "      <th>clarity</th>\n",
       "      <th>cut</th>\n",
       "      <th>polish</th>\n",
       "      <th>id</th>\n",
       "      <th>date</th>\n",
       "      <th>price</th>\n",
       "      <th>carat</th>\n",
       "      <th>price_per_carat</th>\n",
       "      <th>z</th>\n",
       "      <th>x</th>\n",
       "      <th>depth_perc</th>\n",
       "      <th>y</th>\n",
       "      <th>inflation</th>\n",
       "    </tr>\n",
       "  </thead>\n",
       "  <tbody>\n",
       "    <tr>\n",
       "      <th>0</th>\n",
       "      <td>189202</td>\n",
       "      <td>NONE</td>\n",
       "      <td>EX</td>\n",
       "      <td>jamesallen</td>\n",
       "      <td>PS</td>\n",
       "      <td>D</td>\n",
       "      <td>SI2</td>\n",
       "      <td>NaN</td>\n",
       "      <td>EX</td>\n",
       "      <td>14224443</td>\n",
       "      <td>202205</td>\n",
       "      <td>9120.0</td>\n",
       "      <td>1.51</td>\n",
       "      <td>6039.74</td>\n",
       "      <td>10.67</td>\n",
       "      <td>6.23</td>\n",
       "      <td>59.0</td>\n",
       "      <td>3.67570</td>\n",
       "      <td>0.962390</td>\n",
       "    </tr>\n",
       "    <tr>\n",
       "      <th>1</th>\n",
       "      <td>76462</td>\n",
       "      <td>NONE</td>\n",
       "      <td>VG</td>\n",
       "      <td>jamesallen</td>\n",
       "      <td>EM</td>\n",
       "      <td>K</td>\n",
       "      <td>SI2</td>\n",
       "      <td>NaN</td>\n",
       "      <td>VG</td>\n",
       "      <td>12902293</td>\n",
       "      <td>202205</td>\n",
       "      <td>1390.0</td>\n",
       "      <td>0.91</td>\n",
       "      <td>1527.47</td>\n",
       "      <td>6.30</td>\n",
       "      <td>4.58</td>\n",
       "      <td>71.0</td>\n",
       "      <td>3.25180</td>\n",
       "      <td>0.881565</td>\n",
       "    </tr>\n",
       "    <tr>\n",
       "      <th>2</th>\n",
       "      <td>72397</td>\n",
       "      <td>NONE</td>\n",
       "      <td>VG</td>\n",
       "      <td>jamesallen</td>\n",
       "      <td>PS</td>\n",
       "      <td>J</td>\n",
       "      <td>VS1</td>\n",
       "      <td>NaN</td>\n",
       "      <td>VG</td>\n",
       "      <td>12771762</td>\n",
       "      <td>202207</td>\n",
       "      <td>15990.0</td>\n",
       "      <td>2.27</td>\n",
       "      <td>7044.05</td>\n",
       "      <td>11.66</td>\n",
       "      <td>7.26</td>\n",
       "      <td>62.2</td>\n",
       "      <td>4.51572</td>\n",
       "      <td>1.000000</td>\n",
       "    </tr>\n",
       "    <tr>\n",
       "      <th>3</th>\n",
       "      <td>269475</td>\n",
       "      <td>MED</td>\n",
       "      <td>EX</td>\n",
       "      <td>jamesallen</td>\n",
       "      <td>RD</td>\n",
       "      <td>J</td>\n",
       "      <td>SI2</td>\n",
       "      <td>EX</td>\n",
       "      <td>EX</td>\n",
       "      <td>14584509</td>\n",
       "      <td>202205</td>\n",
       "      <td>3700.0</td>\n",
       "      <td>1.01</td>\n",
       "      <td>3663.37</td>\n",
       "      <td>6.37</td>\n",
       "      <td>6.42</td>\n",
       "      <td>62.0</td>\n",
       "      <td>3.98040</td>\n",
       "      <td>1.079663</td>\n",
       "    </tr>\n",
       "    <tr>\n",
       "      <th>4</th>\n",
       "      <td>321928</td>\n",
       "      <td>NONE</td>\n",
       "      <td>EX</td>\n",
       "      <td>jamesallen</td>\n",
       "      <td>RD</td>\n",
       "      <td>G</td>\n",
       "      <td>SI1</td>\n",
       "      <td>EX</td>\n",
       "      <td>EX</td>\n",
       "      <td>14773748</td>\n",
       "      <td>202206</td>\n",
       "      <td>7170.0</td>\n",
       "      <td>1.00</td>\n",
       "      <td>7170.00</td>\n",
       "      <td>6.30</td>\n",
       "      <td>6.35</td>\n",
       "      <td>63.7</td>\n",
       "      <td>4.04495</td>\n",
       "      <td>1.054515</td>\n",
       "    </tr>\n",
       "  </tbody>\n",
       "</table>\n",
       "</div>"
      ]
     },
     "execution_count": 67,
     "metadata": {},
     "output_type": "execute_result"
    }
   ],
   "execution_count": 67
  },
  {
   "cell_type": "markdown",
   "source": [
    "### Задание 2: Модель"
   ],
   "metadata": {
    "id": "xuPhXT9aESGs"
   }
  },
  {
   "cell_type": "markdown",
   "source": [
    "Определите функцию потерь (MSE или MAE) и обоснуйте свой выбор. Попробуйте построить baseline. Используйте LabelEncoder для категориальных признаков и **постройте линейную модель**."
   ],
   "metadata": {
    "id": "v3OgAHMiExrW"
   }
  },
  {
   "cell_type": "code",
   "source": [
    "from sklearn.model_selection import train_test_split\n",
    "from sklearn.preprocessing import LableEncoder\n",
    "from sklearn.metrics import ...\n",
    "\n",
    "\n",
    "X = df.drop(columns=[\"...\"])\n",
    "y = df[\"...\"]\n",
    "\n",
    "X_train, X_valid, y_train, y_valid = train_test_split(X, y, test_size=0.2, random_state=13)"
   ],
   "metadata": {
    "id": "BEvWYr1uEKJU"
   },
   "execution_count": null,
   "outputs": []
  },
  {
   "cell_type": "markdown",
   "source": [
    "Теперь попробуйте OHE (One Hot Encoding) или TargetEncoder (сравните их).\n",
    "\n",
    "Нормализуйте данные.\n",
    "\n",
    "Поработайте с отсутствующими значениями (обратите внимание, что для 'fluor' значение может быть пропущено или флюоресценция может отсутствовать).\n",
    "\n",
    "Покажите, насколько вам удалось улучшить результат."
   ],
   "metadata": {
    "id": "Z9kiKhHuFDUD"
   }
  },
  {
   "cell_type": "code",
   "source": [
    "! pip install category_encoders"
   ],
   "metadata": {
    "id": "LeLrnXuepjjb"
   },
   "execution_count": null,
   "outputs": []
  },
  {
   "cell_type": "code",
   "source": [
    "from sklearn.preprocessing import OneHotEncoder\n",
    "from category_encoders import TargetEncoder\n",
    "from sklearn.preprocessing import StandardScaler\n",
    "\n",
    "from typing import Tuple, List\n",
    "\n",
    "\n",
    "def OHE(df: pd.DataFrame, columns: List[str]) -> Tuple[pd.DataFrame, List[str]]:\n",
    "    \"\"\"\n",
    "    Instead of this function you can use Pandas functionality\n",
    "    \"\"\"\n",
    "    index = df.index\n",
    "    one = OneHotEncoder(sparse=False, categories='auto')\n",
    "    ohe = one.fit_transform(df[columns])\n",
    "    col_names = one.get_feature_names(input_features = columns)\n",
    "    df = df.drop(columns, axis=1)\n",
    "    df = df.reset_index(drop=True)\n",
    "    df = pd.concat([df, pd.DataFrame(ohe, columns=col_names)], axis = 1)\n",
    "    df = df.set_index(index)\n",
    "    return (df, col_names)\n",
    "\n",
    "scaler = StandardScaler() # Помните, что здесь мы выполняем только преобразование"
   ],
   "metadata": {
    "id": "becHgg71Iria"
   },
   "execution_count": null,
   "outputs": []
  },
  {
   "cell_type": "markdown",
   "source": [
    "Сравните результаты вашей модели с результатами KNN"
   ],
   "metadata": {
    "id": "tnJUqYqWoqgk"
   }
  },
  {
   "cell_type": "code",
   "source": [
    "from sklearn.neighbors import KNeighborsRegressor\n",
    "\n",
    "..."
   ],
   "metadata": {
    "id": "bhKgkdw5ou4A"
   },
   "execution_count": null,
   "outputs": []
  },
  {
   "cell_type": "markdown",
   "source": [
    "## Деревья решений"
   ],
   "metadata": {
    "id": "G99aXglOYmvU"
   }
  },
  {
   "cell_type": "markdown",
   "source": [
    "Попробуйте выполнить то же задание, но с помощью модели Decision Trees."
   ],
   "metadata": {
    "id": "PB1ScJ7lgzu4"
   }
  },
  {
   "cell_type": "code",
   "source": [
    "# your code here"
   ],
   "metadata": {
    "id": "OPbDQ7psYshp"
   },
   "execution_count": null,
   "outputs": []
  },
  {
   "cell_type": "markdown",
   "source": [
    "## Ансамблевые методы"
   ],
   "metadata": {
    "id": "MeU9D2k8YvOQ"
   }
  },
  {
   "cell_type": "markdown",
   "source": [
    "Попробуйте выполнить то же задание, но с использованием ансамблевых методов (модель случайного леса)."
   ],
   "metadata": {
    "id": "rMTEA0FwhJPo"
   }
  },
  {
   "cell_type": "code",
   "source": [
    "# your code here"
   ],
   "metadata": {
    "id": "mGx1jeCvY0nF"
   },
   "execution_count": null,
   "outputs": []
  },
  {
   "cell_type": "markdown",
   "source": [
    "## Заключение"
   ],
   "metadata": {
    "id": "61wmMcD6hjpC"
   }
  },
  {
   "cell_type": "markdown",
   "source": [
    "Сравните все модели, выберите лучшую и сделайте вывод о задании в целом."
   ],
   "metadata": {
    "id": "Kr1hJwJvhm7m"
   }
  },
  {
   "cell_type": "markdown",
   "source": [
    "<Ваш вывод здесь >"
   ],
   "metadata": {
    "id": "plEERC62h7ba"
   }
  }
 ]
}
