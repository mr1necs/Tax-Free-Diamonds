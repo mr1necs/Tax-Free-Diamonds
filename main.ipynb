{
 "nbformat": 4,
 "nbformat_minor": 0,
 "metadata": {
  "colab": {
   "provenance": []
  },
  "kernelspec": {
   "name": "python3",
   "display_name": "Python 3 (ipykernel)",
   "language": "python"
  },
  "language_info": {
   "name": "python"
  }
 },
 "cells": [
  {
   "cell_type": "markdown",
   "source": [
    "# Проект"
   ],
   "metadata": {
    "id": "jyJswrIfpbmA"
   }
  },
  {
   "cell_type": "markdown",
   "source": [
    "## Регрессия"
   ],
   "metadata": {
    "id": "r_lVVaJl2Ncb"
   }
  },
  {
   "cell_type": "markdown",
   "source": [
    "С 1 октября НДС на бриллианты отменяется, что делает их новым инвестиционным инструментом. Давайте создадим для них модель ценообразования. Dataset содержит характеристики бриллиантов и цены на них с сайта jamesallen (B2C-платформа) по состоянию на 2022-07-01\n",
    "\n",
    "**Описание характеристик**\n",
    "\n",
    "* fluor - флюоресценция (свойство драгоценного камня светиться) \n",
    "* symmetry - показатель симметрии\n",
    "* platform - название платформы, на которой был размещен драгоценный камень\n",
    "* shape - форма\n",
    "* color - цвет\n",
    "* clarity - чистота\n",
    "* cut - качество огранки (может быть только для круглых камней)\n",
    "* polish - полировка\n",
    "* id - номер драгоценного камня\n",
    "* date - дата\n",
    "* price - цена\n",
    "* carat - количество каратов\n",
    "* price_per_carat - цена за карат\n",
    "* z - длина (диаметр)\n",
    "* x - ширина\n",
    "* depth_perc - отношение высоты к ширине\n",
    "* y - высота"
   ],
   "metadata": {
    "id": "XjOCpvogZ2dR"
   }
  },
  {
   "cell_type": "code",
   "source": [
    "import pandas as pd\n",
    "import numpy as np"
   ],
   "metadata": {
    "id": "iOnp-6t565z8",
    "ExecuteTime": {
     "end_time": "2025-01-11T10:20:39.214018Z",
     "start_time": "2025-01-11T10:20:39.206657Z"
    }
   },
   "outputs": [],
   "execution_count": 53
  },
  {
   "cell_type": "code",
   "source": [
    "df = pd.read_csv('diamonds.csv')\n",
    "df.head()"
   ],
   "metadata": {
    "id": "iG7MP6VZ2UZN",
    "ExecuteTime": {
     "end_time": "2025-01-11T10:20:39.606960Z",
     "start_time": "2025-01-11T10:20:39.417805Z"
    }
   },
   "outputs": [
    {
     "data": {
      "text/plain": [
       "   Unnamed: 0 fluor symmetry    platform shape color clarity  cut polish  \\\n",
       "0      135269  NONE       EX  jamesallen    PS     F     SI1  NaN     EX   \n",
       "1       48477   MED       EX  jamesallen    RD     H    VVS2   EX     EX   \n",
       "2      236786  NONE       EX  jamesallen    EM     H      IF  NaN     EX   \n",
       "3      235781  NONE       EX  jamesallen    RD     E     VS2   EX     EX   \n",
       "4      277744  NONE       VG  jamesallen    RD     F     VS1   VG     EX   \n",
       "\n",
       "         id    date    price  carat  price_per_carat      z     x  depth_perc  \\\n",
       "0  13870838  202206  12850.0   1.55          8290.32  10.29  6.41        62.0   \n",
       "1  11725253  202207   7510.0   1.02          7362.75   6.41  6.45        62.5   \n",
       "2  14444347  202205  21220.0   2.01         10557.21   8.60  6.37        65.0   \n",
       "3  14438434  202207   8660.0   1.00          8660.00   6.39  6.44        61.4   \n",
       "4  14615276  202206   8480.0   1.00          8480.00   6.28  6.36        62.3   \n",
       "\n",
       "         y  \n",
       "0  3.97420  \n",
       "1  4.03125  \n",
       "2  4.14050  \n",
       "3  3.95416  \n",
       "4  3.96228  "
      ],
      "text/html": [
       "<div>\n",
       "<style scoped>\n",
       "    .dataframe tbody tr th:only-of-type {\n",
       "        vertical-align: middle;\n",
       "    }\n",
       "\n",
       "    .dataframe tbody tr th {\n",
       "        vertical-align: top;\n",
       "    }\n",
       "\n",
       "    .dataframe thead th {\n",
       "        text-align: right;\n",
       "    }\n",
       "</style>\n",
       "<table border=\"1\" class=\"dataframe\">\n",
       "  <thead>\n",
       "    <tr style=\"text-align: right;\">\n",
       "      <th></th>\n",
       "      <th>Unnamed: 0</th>\n",
       "      <th>fluor</th>\n",
       "      <th>symmetry</th>\n",
       "      <th>platform</th>\n",
       "      <th>shape</th>\n",
       "      <th>color</th>\n",
       "      <th>clarity</th>\n",
       "      <th>cut</th>\n",
       "      <th>polish</th>\n",
       "      <th>id</th>\n",
       "      <th>date</th>\n",
       "      <th>price</th>\n",
       "      <th>carat</th>\n",
       "      <th>price_per_carat</th>\n",
       "      <th>z</th>\n",
       "      <th>x</th>\n",
       "      <th>depth_perc</th>\n",
       "      <th>y</th>\n",
       "    </tr>\n",
       "  </thead>\n",
       "  <tbody>\n",
       "    <tr>\n",
       "      <th>0</th>\n",
       "      <td>135269</td>\n",
       "      <td>NONE</td>\n",
       "      <td>EX</td>\n",
       "      <td>jamesallen</td>\n",
       "      <td>PS</td>\n",
       "      <td>F</td>\n",
       "      <td>SI1</td>\n",
       "      <td>NaN</td>\n",
       "      <td>EX</td>\n",
       "      <td>13870838</td>\n",
       "      <td>202206</td>\n",
       "      <td>12850.0</td>\n",
       "      <td>1.55</td>\n",
       "      <td>8290.32</td>\n",
       "      <td>10.29</td>\n",
       "      <td>6.41</td>\n",
       "      <td>62.0</td>\n",
       "      <td>3.97420</td>\n",
       "    </tr>\n",
       "    <tr>\n",
       "      <th>1</th>\n",
       "      <td>48477</td>\n",
       "      <td>MED</td>\n",
       "      <td>EX</td>\n",
       "      <td>jamesallen</td>\n",
       "      <td>RD</td>\n",
       "      <td>H</td>\n",
       "      <td>VVS2</td>\n",
       "      <td>EX</td>\n",
       "      <td>EX</td>\n",
       "      <td>11725253</td>\n",
       "      <td>202207</td>\n",
       "      <td>7510.0</td>\n",
       "      <td>1.02</td>\n",
       "      <td>7362.75</td>\n",
       "      <td>6.41</td>\n",
       "      <td>6.45</td>\n",
       "      <td>62.5</td>\n",
       "      <td>4.03125</td>\n",
       "    </tr>\n",
       "    <tr>\n",
       "      <th>2</th>\n",
       "      <td>236786</td>\n",
       "      <td>NONE</td>\n",
       "      <td>EX</td>\n",
       "      <td>jamesallen</td>\n",
       "      <td>EM</td>\n",
       "      <td>H</td>\n",
       "      <td>IF</td>\n",
       "      <td>NaN</td>\n",
       "      <td>EX</td>\n",
       "      <td>14444347</td>\n",
       "      <td>202205</td>\n",
       "      <td>21220.0</td>\n",
       "      <td>2.01</td>\n",
       "      <td>10557.21</td>\n",
       "      <td>8.60</td>\n",
       "      <td>6.37</td>\n",
       "      <td>65.0</td>\n",
       "      <td>4.14050</td>\n",
       "    </tr>\n",
       "    <tr>\n",
       "      <th>3</th>\n",
       "      <td>235781</td>\n",
       "      <td>NONE</td>\n",
       "      <td>EX</td>\n",
       "      <td>jamesallen</td>\n",
       "      <td>RD</td>\n",
       "      <td>E</td>\n",
       "      <td>VS2</td>\n",
       "      <td>EX</td>\n",
       "      <td>EX</td>\n",
       "      <td>14438434</td>\n",
       "      <td>202207</td>\n",
       "      <td>8660.0</td>\n",
       "      <td>1.00</td>\n",
       "      <td>8660.00</td>\n",
       "      <td>6.39</td>\n",
       "      <td>6.44</td>\n",
       "      <td>61.4</td>\n",
       "      <td>3.95416</td>\n",
       "    </tr>\n",
       "    <tr>\n",
       "      <th>4</th>\n",
       "      <td>277744</td>\n",
       "      <td>NONE</td>\n",
       "      <td>VG</td>\n",
       "      <td>jamesallen</td>\n",
       "      <td>RD</td>\n",
       "      <td>F</td>\n",
       "      <td>VS1</td>\n",
       "      <td>VG</td>\n",
       "      <td>EX</td>\n",
       "      <td>14615276</td>\n",
       "      <td>202206</td>\n",
       "      <td>8480.0</td>\n",
       "      <td>1.00</td>\n",
       "      <td>8480.00</td>\n",
       "      <td>6.28</td>\n",
       "      <td>6.36</td>\n",
       "      <td>62.3</td>\n",
       "      <td>3.96228</td>\n",
       "    </tr>\n",
       "  </tbody>\n",
       "</table>\n",
       "</div>"
      ]
     },
     "execution_count": 54,
     "metadata": {},
     "output_type": "execute_result"
    }
   ],
   "execution_count": 54
  },
  {
   "metadata": {},
   "cell_type": "code",
   "outputs": [],
   "execution_count": null,
   "source": "df.info()"
  },
  {
   "cell_type": "markdown",
   "source": [
    "Это нужно для того, чтобы предсказать `price_per_carat`."
   ],
   "metadata": {
    "id": "PD8Sv2_ktIqx"
   }
  },
  {
   "cell_type": "markdown",
   "source": [
    "### Задание 1: Очистка данных\n",
    "Не все драгоценные камни удается продать в течение месяца, поэтому в таблице есть повторы. Объедините данные по каждому самоцвету: подумайте, как лучше это сделать, какую цену взять.\n",
    "\n",
    "**Постарайтесь найти аномалии:** возможно, цена на некоторые самоцветы резко меняется (то есть продавец сам не знает, по какой цене их продавать). Также убедитесь, что другие параметры драгоценного камня не меняются."
   ],
   "metadata": {
    "id": "HEBGHQkD7DWw"
   }
  },
  {
   "cell_type": "code",
   "source": [
    "# Разделим выборку драгоценных камней на две части, встречающиеся 1 раз и которые встречались 2 и более раза\n",
    "df_one = df.query('id.duplicated(keep=False) == False')\n",
    "df_three = df.query('id.duplicated(keep=False) == True')\n",
    "\n",
    "# Удалим аномальные значения и выбросы\n",
    "df_three = df_three.query('price.diff().abs() <= 0.5 * price.mean()', engine='python').sort_values(by=['id', 'date'])\n",
    "\n",
    "# Возьмем в качестве цены последнее по времени значение\n",
    "df_three = df_three.groupby('id').agg('last').reset_index()\n",
    "\n",
    "# Объединим, чтобы получить результат\n",
    "df = pd.concat([df_one, df_three]).reset_index(drop=True)"
   ],
   "metadata": {
    "id": "YUaUjnMVbt-i",
    "ExecuteTime": {
     "end_time": "2025-01-11T10:22:25.993864Z",
     "start_time": "2025-01-11T10:22:25.830801Z"
    }
   },
   "outputs": [
    {
     "ename": "UndefinedVariableError",
     "evalue": "name 'id_stat' is not defined",
     "output_type": "error",
     "traceback": [
      "\u001B[0;31m---------------------------------------------------------------------------\u001B[0m",
      "\u001B[0;31mKeyError\u001B[0m                                  Traceback (most recent call last)",
      "File \u001B[0;32m~/miniconda3/lib/python3.12/site-packages/pandas/core/computation/scope.py:231\u001B[0m, in \u001B[0;36mScope.resolve\u001B[0;34m(self, key, is_local)\u001B[0m\n\u001B[1;32m    230\u001B[0m \u001B[38;5;28;01mif\u001B[39;00m \u001B[38;5;28mself\u001B[39m\u001B[38;5;241m.\u001B[39mhas_resolvers:\n\u001B[0;32m--> 231\u001B[0m     \u001B[38;5;28;01mreturn\u001B[39;00m \u001B[38;5;28mself\u001B[39m\u001B[38;5;241m.\u001B[39mresolvers[key]\n\u001B[1;32m    233\u001B[0m \u001B[38;5;66;03m# if we're here that means that we have no locals and we also have\u001B[39;00m\n\u001B[1;32m    234\u001B[0m \u001B[38;5;66;03m# no resolvers\u001B[39;00m\n",
      "File \u001B[0;32m~/miniconda3/lib/python3.12/collections/__init__.py:1014\u001B[0m, in \u001B[0;36mChainMap.__getitem__\u001B[0;34m(self, key)\u001B[0m\n\u001B[1;32m   1013\u001B[0m         \u001B[38;5;28;01mpass\u001B[39;00m\n\u001B[0;32m-> 1014\u001B[0m \u001B[38;5;28;01mreturn\u001B[39;00m \u001B[38;5;28mself\u001B[39m\u001B[38;5;241m.\u001B[39m\u001B[38;5;21m__missing__\u001B[39m(key)\n",
      "File \u001B[0;32m~/miniconda3/lib/python3.12/collections/__init__.py:1006\u001B[0m, in \u001B[0;36mChainMap.__missing__\u001B[0;34m(self, key)\u001B[0m\n\u001B[1;32m   1005\u001B[0m \u001B[38;5;28;01mdef\u001B[39;00m \u001B[38;5;21m__missing__\u001B[39m(\u001B[38;5;28mself\u001B[39m, key):\n\u001B[0;32m-> 1006\u001B[0m     \u001B[38;5;28;01mraise\u001B[39;00m \u001B[38;5;167;01mKeyError\u001B[39;00m(key)\n",
      "\u001B[0;31mKeyError\u001B[0m: 'id_stat'",
      "\nDuring handling of the above exception, another exception occurred:\n",
      "\u001B[0;31mKeyError\u001B[0m                                  Traceback (most recent call last)",
      "File \u001B[0;32m~/miniconda3/lib/python3.12/site-packages/pandas/core/computation/scope.py:242\u001B[0m, in \u001B[0;36mScope.resolve\u001B[0;34m(self, key, is_local)\u001B[0m\n\u001B[1;32m    238\u001B[0m \u001B[38;5;28;01mtry\u001B[39;00m:\n\u001B[1;32m    239\u001B[0m     \u001B[38;5;66;03m# last ditch effort we look in temporaries\u001B[39;00m\n\u001B[1;32m    240\u001B[0m     \u001B[38;5;66;03m# these are created when parsing indexing expressions\u001B[39;00m\n\u001B[1;32m    241\u001B[0m     \u001B[38;5;66;03m# e.g., df[df > 0]\u001B[39;00m\n\u001B[0;32m--> 242\u001B[0m     \u001B[38;5;28;01mreturn\u001B[39;00m \u001B[38;5;28mself\u001B[39m\u001B[38;5;241m.\u001B[39mtemps[key]\n\u001B[1;32m    243\u001B[0m \u001B[38;5;28;01mexcept\u001B[39;00m \u001B[38;5;167;01mKeyError\u001B[39;00m \u001B[38;5;28;01mas\u001B[39;00m err:\n",
      "\u001B[0;31mKeyError\u001B[0m: 'id_stat'",
      "\nThe above exception was the direct cause of the following exception:\n",
      "\u001B[0;31mUndefinedVariableError\u001B[0m                    Traceback (most recent call last)",
      "Cell \u001B[0;32mIn[59], line 5\u001B[0m\n\u001B[1;32m      2\u001B[0m id_stat\u001B[38;5;241m.\u001B[39mcolumns \u001B[38;5;241m=\u001B[39m [\u001B[38;5;124m'\u001B[39m\u001B[38;5;124mid\u001B[39m\u001B[38;5;124m'\u001B[39m, \u001B[38;5;124m'\u001B[39m\u001B[38;5;124mcount\u001B[39m\u001B[38;5;124m'\u001B[39m] \u001B[38;5;66;03m# Подсчитайте статистику по количеству драгоценных камней\u001B[39;00m\n\u001B[1;32m      4\u001B[0m \u001B[38;5;66;03m# Разделите выборку на две части\u001B[39;00m\n\u001B[0;32m----> 5\u001B[0m df_one \u001B[38;5;241m=\u001B[39m df\u001B[38;5;241m.\u001B[39mquery(\u001B[38;5;124m'\u001B[39m\u001B[38;5;124mid in @id_stat[id_stat[\u001B[39m\u001B[38;5;124m\"\u001B[39m\u001B[38;5;124mcount\u001B[39m\u001B[38;5;124m\"\u001B[39m\u001B[38;5;124m] == 1].index\u001B[39m\u001B[38;5;124m'\u001B[39m) \u001B[38;5;66;03m# те драгоценные камни, которые встречаются однажды\u001B[39;00m\n\u001B[1;32m      6\u001B[0m df_three \u001B[38;5;241m=\u001B[39m df\u001B[38;5;241m.\u001B[39mquery(\u001B[38;5;124m'\u001B[39m\u001B[38;5;124mid in @id_stat[(id_stat[\u001B[39m\u001B[38;5;124m\"\u001B[39m\u001B[38;5;124mcount\u001B[39m\u001B[38;5;124m\"\u001B[39m\u001B[38;5;124m] > 1)].index\u001B[39m\u001B[38;5;124m'\u001B[39m) \u001B[38;5;66;03m# те драгоценные камни, которые встречались 2 или 3 раза\u001B[39;00m\n\u001B[1;32m      8\u001B[0m df_three \u001B[38;5;241m=\u001B[39m df_three\u001B[38;5;241m.\u001B[39msort_values(by\u001B[38;5;241m=\u001B[39m[\u001B[38;5;124m'\u001B[39m\u001B[38;5;124mid\u001B[39m\u001B[38;5;124m'\u001B[39m, \u001B[38;5;124m'\u001B[39m\u001B[38;5;124mdate\u001B[39m\u001B[38;5;124m'\u001B[39m])\n",
      "File \u001B[0;32m~/miniconda3/lib/python3.12/site-packages/pandas/core/frame.py:4823\u001B[0m, in \u001B[0;36mDataFrame.query\u001B[0;34m(self, expr, inplace, **kwargs)\u001B[0m\n\u001B[1;32m   4821\u001B[0m kwargs[\u001B[38;5;124m\"\u001B[39m\u001B[38;5;124mlevel\u001B[39m\u001B[38;5;124m\"\u001B[39m] \u001B[38;5;241m=\u001B[39m kwargs\u001B[38;5;241m.\u001B[39mpop(\u001B[38;5;124m\"\u001B[39m\u001B[38;5;124mlevel\u001B[39m\u001B[38;5;124m\"\u001B[39m, \u001B[38;5;241m0\u001B[39m) \u001B[38;5;241m+\u001B[39m \u001B[38;5;241m1\u001B[39m\n\u001B[1;32m   4822\u001B[0m kwargs[\u001B[38;5;124m\"\u001B[39m\u001B[38;5;124mtarget\u001B[39m\u001B[38;5;124m\"\u001B[39m] \u001B[38;5;241m=\u001B[39m \u001B[38;5;28;01mNone\u001B[39;00m\n\u001B[0;32m-> 4823\u001B[0m res \u001B[38;5;241m=\u001B[39m \u001B[38;5;28mself\u001B[39m\u001B[38;5;241m.\u001B[39meval(expr, \u001B[38;5;241m*\u001B[39m\u001B[38;5;241m*\u001B[39mkwargs)\n\u001B[1;32m   4825\u001B[0m \u001B[38;5;28;01mtry\u001B[39;00m:\n\u001B[1;32m   4826\u001B[0m     result \u001B[38;5;241m=\u001B[39m \u001B[38;5;28mself\u001B[39m\u001B[38;5;241m.\u001B[39mloc[res]\n",
      "File \u001B[0;32m~/miniconda3/lib/python3.12/site-packages/pandas/core/frame.py:4949\u001B[0m, in \u001B[0;36mDataFrame.eval\u001B[0;34m(self, expr, inplace, **kwargs)\u001B[0m\n\u001B[1;32m   4946\u001B[0m     kwargs[\u001B[38;5;124m\"\u001B[39m\u001B[38;5;124mtarget\u001B[39m\u001B[38;5;124m\"\u001B[39m] \u001B[38;5;241m=\u001B[39m \u001B[38;5;28mself\u001B[39m\n\u001B[1;32m   4947\u001B[0m kwargs[\u001B[38;5;124m\"\u001B[39m\u001B[38;5;124mresolvers\u001B[39m\u001B[38;5;124m\"\u001B[39m] \u001B[38;5;241m=\u001B[39m \u001B[38;5;28mtuple\u001B[39m(kwargs\u001B[38;5;241m.\u001B[39mget(\u001B[38;5;124m\"\u001B[39m\u001B[38;5;124mresolvers\u001B[39m\u001B[38;5;124m\"\u001B[39m, ())) \u001B[38;5;241m+\u001B[39m resolvers\n\u001B[0;32m-> 4949\u001B[0m \u001B[38;5;28;01mreturn\u001B[39;00m _eval(expr, inplace\u001B[38;5;241m=\u001B[39minplace, \u001B[38;5;241m*\u001B[39m\u001B[38;5;241m*\u001B[39mkwargs)\n",
      "File \u001B[0;32m~/miniconda3/lib/python3.12/site-packages/pandas/core/computation/eval.py:336\u001B[0m, in \u001B[0;36meval\u001B[0;34m(expr, parser, engine, local_dict, global_dict, resolvers, level, target, inplace)\u001B[0m\n\u001B[1;32m    327\u001B[0m \u001B[38;5;66;03m# get our (possibly passed-in) scope\u001B[39;00m\n\u001B[1;32m    328\u001B[0m env \u001B[38;5;241m=\u001B[39m ensure_scope(\n\u001B[1;32m    329\u001B[0m     level \u001B[38;5;241m+\u001B[39m \u001B[38;5;241m1\u001B[39m,\n\u001B[1;32m    330\u001B[0m     global_dict\u001B[38;5;241m=\u001B[39mglobal_dict,\n\u001B[0;32m   (...)\u001B[0m\n\u001B[1;32m    333\u001B[0m     target\u001B[38;5;241m=\u001B[39mtarget,\n\u001B[1;32m    334\u001B[0m )\n\u001B[0;32m--> 336\u001B[0m parsed_expr \u001B[38;5;241m=\u001B[39m Expr(expr, engine\u001B[38;5;241m=\u001B[39mengine, parser\u001B[38;5;241m=\u001B[39mparser, env\u001B[38;5;241m=\u001B[39menv)\n\u001B[1;32m    338\u001B[0m \u001B[38;5;28;01mif\u001B[39;00m engine \u001B[38;5;241m==\u001B[39m \u001B[38;5;124m\"\u001B[39m\u001B[38;5;124mnumexpr\u001B[39m\u001B[38;5;124m\"\u001B[39m \u001B[38;5;129;01mand\u001B[39;00m (\n\u001B[1;32m    339\u001B[0m     is_extension_array_dtype(parsed_expr\u001B[38;5;241m.\u001B[39mterms\u001B[38;5;241m.\u001B[39mreturn_type)\n\u001B[1;32m    340\u001B[0m     \u001B[38;5;129;01mor\u001B[39;00m \u001B[38;5;28mgetattr\u001B[39m(parsed_expr\u001B[38;5;241m.\u001B[39mterms, \u001B[38;5;124m\"\u001B[39m\u001B[38;5;124moperand_types\u001B[39m\u001B[38;5;124m\"\u001B[39m, \u001B[38;5;28;01mNone\u001B[39;00m) \u001B[38;5;129;01mis\u001B[39;00m \u001B[38;5;129;01mnot\u001B[39;00m \u001B[38;5;28;01mNone\u001B[39;00m\n\u001B[0;32m   (...)\u001B[0m\n\u001B[1;32m    344\u001B[0m     )\n\u001B[1;32m    345\u001B[0m ):\n\u001B[1;32m    346\u001B[0m     warnings\u001B[38;5;241m.\u001B[39mwarn(\n\u001B[1;32m    347\u001B[0m         \u001B[38;5;124m\"\u001B[39m\u001B[38;5;124mEngine has switched to \u001B[39m\u001B[38;5;124m'\u001B[39m\u001B[38;5;124mpython\u001B[39m\u001B[38;5;124m'\u001B[39m\u001B[38;5;124m because numexpr does not support \u001B[39m\u001B[38;5;124m\"\u001B[39m\n\u001B[1;32m    348\u001B[0m         \u001B[38;5;124m\"\u001B[39m\u001B[38;5;124mextension array dtypes. Please set your engine to python manually.\u001B[39m\u001B[38;5;124m\"\u001B[39m,\n\u001B[1;32m    349\u001B[0m         \u001B[38;5;167;01mRuntimeWarning\u001B[39;00m,\n\u001B[1;32m    350\u001B[0m         stacklevel\u001B[38;5;241m=\u001B[39mfind_stack_level(),\n\u001B[1;32m    351\u001B[0m     )\n",
      "File \u001B[0;32m~/miniconda3/lib/python3.12/site-packages/pandas/core/computation/expr.py:809\u001B[0m, in \u001B[0;36mExpr.__init__\u001B[0;34m(self, expr, engine, parser, env, level)\u001B[0m\n\u001B[1;32m    807\u001B[0m \u001B[38;5;28mself\u001B[39m\u001B[38;5;241m.\u001B[39mparser \u001B[38;5;241m=\u001B[39m parser\n\u001B[1;32m    808\u001B[0m \u001B[38;5;28mself\u001B[39m\u001B[38;5;241m.\u001B[39m_visitor \u001B[38;5;241m=\u001B[39m PARSERS[parser](\u001B[38;5;28mself\u001B[39m\u001B[38;5;241m.\u001B[39menv, \u001B[38;5;28mself\u001B[39m\u001B[38;5;241m.\u001B[39mengine, \u001B[38;5;28mself\u001B[39m\u001B[38;5;241m.\u001B[39mparser)\n\u001B[0;32m--> 809\u001B[0m \u001B[38;5;28mself\u001B[39m\u001B[38;5;241m.\u001B[39mterms \u001B[38;5;241m=\u001B[39m \u001B[38;5;28mself\u001B[39m\u001B[38;5;241m.\u001B[39mparse()\n",
      "File \u001B[0;32m~/miniconda3/lib/python3.12/site-packages/pandas/core/computation/expr.py:828\u001B[0m, in \u001B[0;36mExpr.parse\u001B[0;34m(self)\u001B[0m\n\u001B[1;32m    824\u001B[0m \u001B[38;5;28;01mdef\u001B[39;00m \u001B[38;5;21mparse\u001B[39m(\u001B[38;5;28mself\u001B[39m):\n\u001B[1;32m    825\u001B[0m \u001B[38;5;250m    \u001B[39m\u001B[38;5;124;03m\"\"\"\u001B[39;00m\n\u001B[1;32m    826\u001B[0m \u001B[38;5;124;03m    Parse an expression.\u001B[39;00m\n\u001B[1;32m    827\u001B[0m \u001B[38;5;124;03m    \"\"\"\u001B[39;00m\n\u001B[0;32m--> 828\u001B[0m     \u001B[38;5;28;01mreturn\u001B[39;00m \u001B[38;5;28mself\u001B[39m\u001B[38;5;241m.\u001B[39m_visitor\u001B[38;5;241m.\u001B[39mvisit(\u001B[38;5;28mself\u001B[39m\u001B[38;5;241m.\u001B[39mexpr)\n",
      "File \u001B[0;32m~/miniconda3/lib/python3.12/site-packages/pandas/core/computation/expr.py:412\u001B[0m, in \u001B[0;36mBaseExprVisitor.visit\u001B[0;34m(self, node, **kwargs)\u001B[0m\n\u001B[1;32m    410\u001B[0m method \u001B[38;5;241m=\u001B[39m \u001B[38;5;124mf\u001B[39m\u001B[38;5;124m\"\u001B[39m\u001B[38;5;124mvisit_\u001B[39m\u001B[38;5;132;01m{\u001B[39;00m\u001B[38;5;28mtype\u001B[39m(node)\u001B[38;5;241m.\u001B[39m\u001B[38;5;18m__name__\u001B[39m\u001B[38;5;132;01m}\u001B[39;00m\u001B[38;5;124m\"\u001B[39m\n\u001B[1;32m    411\u001B[0m visitor \u001B[38;5;241m=\u001B[39m \u001B[38;5;28mgetattr\u001B[39m(\u001B[38;5;28mself\u001B[39m, method)\n\u001B[0;32m--> 412\u001B[0m \u001B[38;5;28;01mreturn\u001B[39;00m visitor(node, \u001B[38;5;241m*\u001B[39m\u001B[38;5;241m*\u001B[39mkwargs)\n",
      "File \u001B[0;32m~/miniconda3/lib/python3.12/site-packages/pandas/core/computation/expr.py:418\u001B[0m, in \u001B[0;36mBaseExprVisitor.visit_Module\u001B[0;34m(self, node, **kwargs)\u001B[0m\n\u001B[1;32m    416\u001B[0m     \u001B[38;5;28;01mraise\u001B[39;00m \u001B[38;5;167;01mSyntaxError\u001B[39;00m(\u001B[38;5;124m\"\u001B[39m\u001B[38;5;124monly a single expression is allowed\u001B[39m\u001B[38;5;124m\"\u001B[39m)\n\u001B[1;32m    417\u001B[0m expr \u001B[38;5;241m=\u001B[39m node\u001B[38;5;241m.\u001B[39mbody[\u001B[38;5;241m0\u001B[39m]\n\u001B[0;32m--> 418\u001B[0m \u001B[38;5;28;01mreturn\u001B[39;00m \u001B[38;5;28mself\u001B[39m\u001B[38;5;241m.\u001B[39mvisit(expr, \u001B[38;5;241m*\u001B[39m\u001B[38;5;241m*\u001B[39mkwargs)\n",
      "File \u001B[0;32m~/miniconda3/lib/python3.12/site-packages/pandas/core/computation/expr.py:412\u001B[0m, in \u001B[0;36mBaseExprVisitor.visit\u001B[0;34m(self, node, **kwargs)\u001B[0m\n\u001B[1;32m    410\u001B[0m method \u001B[38;5;241m=\u001B[39m \u001B[38;5;124mf\u001B[39m\u001B[38;5;124m\"\u001B[39m\u001B[38;5;124mvisit_\u001B[39m\u001B[38;5;132;01m{\u001B[39;00m\u001B[38;5;28mtype\u001B[39m(node)\u001B[38;5;241m.\u001B[39m\u001B[38;5;18m__name__\u001B[39m\u001B[38;5;132;01m}\u001B[39;00m\u001B[38;5;124m\"\u001B[39m\n\u001B[1;32m    411\u001B[0m visitor \u001B[38;5;241m=\u001B[39m \u001B[38;5;28mgetattr\u001B[39m(\u001B[38;5;28mself\u001B[39m, method)\n\u001B[0;32m--> 412\u001B[0m \u001B[38;5;28;01mreturn\u001B[39;00m visitor(node, \u001B[38;5;241m*\u001B[39m\u001B[38;5;241m*\u001B[39mkwargs)\n",
      "File \u001B[0;32m~/miniconda3/lib/python3.12/site-packages/pandas/core/computation/expr.py:421\u001B[0m, in \u001B[0;36mBaseExprVisitor.visit_Expr\u001B[0;34m(self, node, **kwargs)\u001B[0m\n\u001B[1;32m    420\u001B[0m \u001B[38;5;28;01mdef\u001B[39;00m \u001B[38;5;21mvisit_Expr\u001B[39m(\u001B[38;5;28mself\u001B[39m, node, \u001B[38;5;241m*\u001B[39m\u001B[38;5;241m*\u001B[39mkwargs):\n\u001B[0;32m--> 421\u001B[0m     \u001B[38;5;28;01mreturn\u001B[39;00m \u001B[38;5;28mself\u001B[39m\u001B[38;5;241m.\u001B[39mvisit(node\u001B[38;5;241m.\u001B[39mvalue, \u001B[38;5;241m*\u001B[39m\u001B[38;5;241m*\u001B[39mkwargs)\n",
      "File \u001B[0;32m~/miniconda3/lib/python3.12/site-packages/pandas/core/computation/expr.py:412\u001B[0m, in \u001B[0;36mBaseExprVisitor.visit\u001B[0;34m(self, node, **kwargs)\u001B[0m\n\u001B[1;32m    410\u001B[0m method \u001B[38;5;241m=\u001B[39m \u001B[38;5;124mf\u001B[39m\u001B[38;5;124m\"\u001B[39m\u001B[38;5;124mvisit_\u001B[39m\u001B[38;5;132;01m{\u001B[39;00m\u001B[38;5;28mtype\u001B[39m(node)\u001B[38;5;241m.\u001B[39m\u001B[38;5;18m__name__\u001B[39m\u001B[38;5;132;01m}\u001B[39;00m\u001B[38;5;124m\"\u001B[39m\n\u001B[1;32m    411\u001B[0m visitor \u001B[38;5;241m=\u001B[39m \u001B[38;5;28mgetattr\u001B[39m(\u001B[38;5;28mself\u001B[39m, method)\n\u001B[0;32m--> 412\u001B[0m \u001B[38;5;28;01mreturn\u001B[39;00m visitor(node, \u001B[38;5;241m*\u001B[39m\u001B[38;5;241m*\u001B[39mkwargs)\n",
      "File \u001B[0;32m~/miniconda3/lib/python3.12/site-packages/pandas/core/computation/expr.py:719\u001B[0m, in \u001B[0;36mBaseExprVisitor.visit_Compare\u001B[0;34m(self, node, **kwargs)\u001B[0m\n\u001B[1;32m    717\u001B[0m     op \u001B[38;5;241m=\u001B[39m \u001B[38;5;28mself\u001B[39m\u001B[38;5;241m.\u001B[39mtranslate_In(ops[\u001B[38;5;241m0\u001B[39m])\n\u001B[1;32m    718\u001B[0m     binop \u001B[38;5;241m=\u001B[39m ast\u001B[38;5;241m.\u001B[39mBinOp(op\u001B[38;5;241m=\u001B[39mop, left\u001B[38;5;241m=\u001B[39mnode\u001B[38;5;241m.\u001B[39mleft, right\u001B[38;5;241m=\u001B[39mcomps[\u001B[38;5;241m0\u001B[39m])\n\u001B[0;32m--> 719\u001B[0m     \u001B[38;5;28;01mreturn\u001B[39;00m \u001B[38;5;28mself\u001B[39m\u001B[38;5;241m.\u001B[39mvisit(binop)\n\u001B[1;32m    721\u001B[0m \u001B[38;5;66;03m# recursive case: we have a chained comparison, a CMP b CMP c, etc.\u001B[39;00m\n\u001B[1;32m    722\u001B[0m left \u001B[38;5;241m=\u001B[39m node\u001B[38;5;241m.\u001B[39mleft\n",
      "File \u001B[0;32m~/miniconda3/lib/python3.12/site-packages/pandas/core/computation/expr.py:412\u001B[0m, in \u001B[0;36mBaseExprVisitor.visit\u001B[0;34m(self, node, **kwargs)\u001B[0m\n\u001B[1;32m    410\u001B[0m method \u001B[38;5;241m=\u001B[39m \u001B[38;5;124mf\u001B[39m\u001B[38;5;124m\"\u001B[39m\u001B[38;5;124mvisit_\u001B[39m\u001B[38;5;132;01m{\u001B[39;00m\u001B[38;5;28mtype\u001B[39m(node)\u001B[38;5;241m.\u001B[39m\u001B[38;5;18m__name__\u001B[39m\u001B[38;5;132;01m}\u001B[39;00m\u001B[38;5;124m\"\u001B[39m\n\u001B[1;32m    411\u001B[0m visitor \u001B[38;5;241m=\u001B[39m \u001B[38;5;28mgetattr\u001B[39m(\u001B[38;5;28mself\u001B[39m, method)\n\u001B[0;32m--> 412\u001B[0m \u001B[38;5;28;01mreturn\u001B[39;00m visitor(node, \u001B[38;5;241m*\u001B[39m\u001B[38;5;241m*\u001B[39mkwargs)\n",
      "File \u001B[0;32m~/miniconda3/lib/python3.12/site-packages/pandas/core/computation/expr.py:532\u001B[0m, in \u001B[0;36mBaseExprVisitor.visit_BinOp\u001B[0;34m(self, node, **kwargs)\u001B[0m\n\u001B[1;32m    531\u001B[0m \u001B[38;5;28;01mdef\u001B[39;00m \u001B[38;5;21mvisit_BinOp\u001B[39m(\u001B[38;5;28mself\u001B[39m, node, \u001B[38;5;241m*\u001B[39m\u001B[38;5;241m*\u001B[39mkwargs):\n\u001B[0;32m--> 532\u001B[0m     op, op_class, left, right \u001B[38;5;241m=\u001B[39m \u001B[38;5;28mself\u001B[39m\u001B[38;5;241m.\u001B[39m_maybe_transform_eq_ne(node)\n\u001B[1;32m    533\u001B[0m     left, right \u001B[38;5;241m=\u001B[39m \u001B[38;5;28mself\u001B[39m\u001B[38;5;241m.\u001B[39m_maybe_downcast_constants(left, right)\n\u001B[1;32m    534\u001B[0m     \u001B[38;5;28;01mreturn\u001B[39;00m \u001B[38;5;28mself\u001B[39m\u001B[38;5;241m.\u001B[39m_maybe_evaluate_binop(op, op_class, left, right)\n",
      "File \u001B[0;32m~/miniconda3/lib/python3.12/site-packages/pandas/core/computation/expr.py:454\u001B[0m, in \u001B[0;36mBaseExprVisitor._maybe_transform_eq_ne\u001B[0;34m(self, node, left, right)\u001B[0m\n\u001B[1;32m    452\u001B[0m     left \u001B[38;5;241m=\u001B[39m \u001B[38;5;28mself\u001B[39m\u001B[38;5;241m.\u001B[39mvisit(node\u001B[38;5;241m.\u001B[39mleft, side\u001B[38;5;241m=\u001B[39m\u001B[38;5;124m\"\u001B[39m\u001B[38;5;124mleft\u001B[39m\u001B[38;5;124m\"\u001B[39m)\n\u001B[1;32m    453\u001B[0m \u001B[38;5;28;01mif\u001B[39;00m right \u001B[38;5;129;01mis\u001B[39;00m \u001B[38;5;28;01mNone\u001B[39;00m:\n\u001B[0;32m--> 454\u001B[0m     right \u001B[38;5;241m=\u001B[39m \u001B[38;5;28mself\u001B[39m\u001B[38;5;241m.\u001B[39mvisit(node\u001B[38;5;241m.\u001B[39mright, side\u001B[38;5;241m=\u001B[39m\u001B[38;5;124m\"\u001B[39m\u001B[38;5;124mright\u001B[39m\u001B[38;5;124m\"\u001B[39m)\n\u001B[1;32m    455\u001B[0m op, op_class, left, right \u001B[38;5;241m=\u001B[39m \u001B[38;5;28mself\u001B[39m\u001B[38;5;241m.\u001B[39m_rewrite_membership_op(node, left, right)\n\u001B[1;32m    456\u001B[0m \u001B[38;5;28;01mreturn\u001B[39;00m op, op_class, left, right\n",
      "File \u001B[0;32m~/miniconda3/lib/python3.12/site-packages/pandas/core/computation/expr.py:412\u001B[0m, in \u001B[0;36mBaseExprVisitor.visit\u001B[0;34m(self, node, **kwargs)\u001B[0m\n\u001B[1;32m    410\u001B[0m method \u001B[38;5;241m=\u001B[39m \u001B[38;5;124mf\u001B[39m\u001B[38;5;124m\"\u001B[39m\u001B[38;5;124mvisit_\u001B[39m\u001B[38;5;132;01m{\u001B[39;00m\u001B[38;5;28mtype\u001B[39m(node)\u001B[38;5;241m.\u001B[39m\u001B[38;5;18m__name__\u001B[39m\u001B[38;5;132;01m}\u001B[39;00m\u001B[38;5;124m\"\u001B[39m\n\u001B[1;32m    411\u001B[0m visitor \u001B[38;5;241m=\u001B[39m \u001B[38;5;28mgetattr\u001B[39m(\u001B[38;5;28mself\u001B[39m, method)\n\u001B[0;32m--> 412\u001B[0m \u001B[38;5;28;01mreturn\u001B[39;00m visitor(node, \u001B[38;5;241m*\u001B[39m\u001B[38;5;241m*\u001B[39mkwargs)\n",
      "File \u001B[0;32m~/miniconda3/lib/python3.12/site-packages/pandas/core/computation/expr.py:644\u001B[0m, in \u001B[0;36mBaseExprVisitor.visit_Attribute\u001B[0;34m(self, node, **kwargs)\u001B[0m\n\u001B[1;32m    641\u001B[0m ctx \u001B[38;5;241m=\u001B[39m node\u001B[38;5;241m.\u001B[39mctx\n\u001B[1;32m    642\u001B[0m \u001B[38;5;28;01mif\u001B[39;00m \u001B[38;5;28misinstance\u001B[39m(ctx, ast\u001B[38;5;241m.\u001B[39mLoad):\n\u001B[1;32m    643\u001B[0m     \u001B[38;5;66;03m# resolve the value\u001B[39;00m\n\u001B[0;32m--> 644\u001B[0m     resolved \u001B[38;5;241m=\u001B[39m \u001B[38;5;28mself\u001B[39m\u001B[38;5;241m.\u001B[39mvisit(value)\u001B[38;5;241m.\u001B[39mvalue\n\u001B[1;32m    645\u001B[0m     \u001B[38;5;28;01mtry\u001B[39;00m:\n\u001B[1;32m    646\u001B[0m         v \u001B[38;5;241m=\u001B[39m \u001B[38;5;28mgetattr\u001B[39m(resolved, attr)\n",
      "File \u001B[0;32m~/miniconda3/lib/python3.12/site-packages/pandas/core/computation/expr.py:412\u001B[0m, in \u001B[0;36mBaseExprVisitor.visit\u001B[0;34m(self, node, **kwargs)\u001B[0m\n\u001B[1;32m    410\u001B[0m method \u001B[38;5;241m=\u001B[39m \u001B[38;5;124mf\u001B[39m\u001B[38;5;124m\"\u001B[39m\u001B[38;5;124mvisit_\u001B[39m\u001B[38;5;132;01m{\u001B[39;00m\u001B[38;5;28mtype\u001B[39m(node)\u001B[38;5;241m.\u001B[39m\u001B[38;5;18m__name__\u001B[39m\u001B[38;5;132;01m}\u001B[39;00m\u001B[38;5;124m\"\u001B[39m\n\u001B[1;32m    411\u001B[0m visitor \u001B[38;5;241m=\u001B[39m \u001B[38;5;28mgetattr\u001B[39m(\u001B[38;5;28mself\u001B[39m, method)\n\u001B[0;32m--> 412\u001B[0m \u001B[38;5;28;01mreturn\u001B[39;00m visitor(node, \u001B[38;5;241m*\u001B[39m\u001B[38;5;241m*\u001B[39mkwargs)\n",
      "File \u001B[0;32m~/miniconda3/lib/python3.12/site-packages/pandas/core/computation/expr.py:577\u001B[0m, in \u001B[0;36mBaseExprVisitor.visit_Subscript\u001B[0;34m(self, node, **kwargs)\u001B[0m\n\u001B[1;32m    574\u001B[0m \u001B[38;5;28;01mfrom\u001B[39;00m \u001B[38;5;21;01mpandas\u001B[39;00m \u001B[38;5;28;01mimport\u001B[39;00m \u001B[38;5;28meval\u001B[39m \u001B[38;5;28;01mas\u001B[39;00m pd_eval\n\u001B[1;32m    576\u001B[0m value \u001B[38;5;241m=\u001B[39m \u001B[38;5;28mself\u001B[39m\u001B[38;5;241m.\u001B[39mvisit(node\u001B[38;5;241m.\u001B[39mvalue)\n\u001B[0;32m--> 577\u001B[0m slobj \u001B[38;5;241m=\u001B[39m \u001B[38;5;28mself\u001B[39m\u001B[38;5;241m.\u001B[39mvisit(node\u001B[38;5;241m.\u001B[39mslice)\n\u001B[1;32m    578\u001B[0m result \u001B[38;5;241m=\u001B[39m pd_eval(\n\u001B[1;32m    579\u001B[0m     slobj, local_dict\u001B[38;5;241m=\u001B[39m\u001B[38;5;28mself\u001B[39m\u001B[38;5;241m.\u001B[39menv, engine\u001B[38;5;241m=\u001B[39m\u001B[38;5;28mself\u001B[39m\u001B[38;5;241m.\u001B[39mengine, parser\u001B[38;5;241m=\u001B[39m\u001B[38;5;28mself\u001B[39m\u001B[38;5;241m.\u001B[39mparser\n\u001B[1;32m    580\u001B[0m )\n\u001B[1;32m    581\u001B[0m \u001B[38;5;28;01mtry\u001B[39;00m:\n\u001B[1;32m    582\u001B[0m     \u001B[38;5;66;03m# a Term instance\u001B[39;00m\n",
      "File \u001B[0;32m~/miniconda3/lib/python3.12/site-packages/pandas/core/computation/expr.py:412\u001B[0m, in \u001B[0;36mBaseExprVisitor.visit\u001B[0;34m(self, node, **kwargs)\u001B[0m\n\u001B[1;32m    410\u001B[0m method \u001B[38;5;241m=\u001B[39m \u001B[38;5;124mf\u001B[39m\u001B[38;5;124m\"\u001B[39m\u001B[38;5;124mvisit_\u001B[39m\u001B[38;5;132;01m{\u001B[39;00m\u001B[38;5;28mtype\u001B[39m(node)\u001B[38;5;241m.\u001B[39m\u001B[38;5;18m__name__\u001B[39m\u001B[38;5;132;01m}\u001B[39;00m\u001B[38;5;124m\"\u001B[39m\n\u001B[1;32m    411\u001B[0m visitor \u001B[38;5;241m=\u001B[39m \u001B[38;5;28mgetattr\u001B[39m(\u001B[38;5;28mself\u001B[39m, method)\n\u001B[0;32m--> 412\u001B[0m \u001B[38;5;28;01mreturn\u001B[39;00m visitor(node, \u001B[38;5;241m*\u001B[39m\u001B[38;5;241m*\u001B[39mkwargs)\n",
      "File \u001B[0;32m~/miniconda3/lib/python3.12/site-packages/pandas/core/computation/expr.py:719\u001B[0m, in \u001B[0;36mBaseExprVisitor.visit_Compare\u001B[0;34m(self, node, **kwargs)\u001B[0m\n\u001B[1;32m    717\u001B[0m     op \u001B[38;5;241m=\u001B[39m \u001B[38;5;28mself\u001B[39m\u001B[38;5;241m.\u001B[39mtranslate_In(ops[\u001B[38;5;241m0\u001B[39m])\n\u001B[1;32m    718\u001B[0m     binop \u001B[38;5;241m=\u001B[39m ast\u001B[38;5;241m.\u001B[39mBinOp(op\u001B[38;5;241m=\u001B[39mop, left\u001B[38;5;241m=\u001B[39mnode\u001B[38;5;241m.\u001B[39mleft, right\u001B[38;5;241m=\u001B[39mcomps[\u001B[38;5;241m0\u001B[39m])\n\u001B[0;32m--> 719\u001B[0m     \u001B[38;5;28;01mreturn\u001B[39;00m \u001B[38;5;28mself\u001B[39m\u001B[38;5;241m.\u001B[39mvisit(binop)\n\u001B[1;32m    721\u001B[0m \u001B[38;5;66;03m# recursive case: we have a chained comparison, a CMP b CMP c, etc.\u001B[39;00m\n\u001B[1;32m    722\u001B[0m left \u001B[38;5;241m=\u001B[39m node\u001B[38;5;241m.\u001B[39mleft\n",
      "File \u001B[0;32m~/miniconda3/lib/python3.12/site-packages/pandas/core/computation/expr.py:412\u001B[0m, in \u001B[0;36mBaseExprVisitor.visit\u001B[0;34m(self, node, **kwargs)\u001B[0m\n\u001B[1;32m    410\u001B[0m method \u001B[38;5;241m=\u001B[39m \u001B[38;5;124mf\u001B[39m\u001B[38;5;124m\"\u001B[39m\u001B[38;5;124mvisit_\u001B[39m\u001B[38;5;132;01m{\u001B[39;00m\u001B[38;5;28mtype\u001B[39m(node)\u001B[38;5;241m.\u001B[39m\u001B[38;5;18m__name__\u001B[39m\u001B[38;5;132;01m}\u001B[39;00m\u001B[38;5;124m\"\u001B[39m\n\u001B[1;32m    411\u001B[0m visitor \u001B[38;5;241m=\u001B[39m \u001B[38;5;28mgetattr\u001B[39m(\u001B[38;5;28mself\u001B[39m, method)\n\u001B[0;32m--> 412\u001B[0m \u001B[38;5;28;01mreturn\u001B[39;00m visitor(node, \u001B[38;5;241m*\u001B[39m\u001B[38;5;241m*\u001B[39mkwargs)\n",
      "File \u001B[0;32m~/miniconda3/lib/python3.12/site-packages/pandas/core/computation/expr.py:532\u001B[0m, in \u001B[0;36mBaseExprVisitor.visit_BinOp\u001B[0;34m(self, node, **kwargs)\u001B[0m\n\u001B[1;32m    531\u001B[0m \u001B[38;5;28;01mdef\u001B[39;00m \u001B[38;5;21mvisit_BinOp\u001B[39m(\u001B[38;5;28mself\u001B[39m, node, \u001B[38;5;241m*\u001B[39m\u001B[38;5;241m*\u001B[39mkwargs):\n\u001B[0;32m--> 532\u001B[0m     op, op_class, left, right \u001B[38;5;241m=\u001B[39m \u001B[38;5;28mself\u001B[39m\u001B[38;5;241m.\u001B[39m_maybe_transform_eq_ne(node)\n\u001B[1;32m    533\u001B[0m     left, right \u001B[38;5;241m=\u001B[39m \u001B[38;5;28mself\u001B[39m\u001B[38;5;241m.\u001B[39m_maybe_downcast_constants(left, right)\n\u001B[1;32m    534\u001B[0m     \u001B[38;5;28;01mreturn\u001B[39;00m \u001B[38;5;28mself\u001B[39m\u001B[38;5;241m.\u001B[39m_maybe_evaluate_binop(op, op_class, left, right)\n",
      "File \u001B[0;32m~/miniconda3/lib/python3.12/site-packages/pandas/core/computation/expr.py:452\u001B[0m, in \u001B[0;36mBaseExprVisitor._maybe_transform_eq_ne\u001B[0;34m(self, node, left, right)\u001B[0m\n\u001B[1;32m    450\u001B[0m \u001B[38;5;28;01mdef\u001B[39;00m \u001B[38;5;21m_maybe_transform_eq_ne\u001B[39m(\u001B[38;5;28mself\u001B[39m, node, left\u001B[38;5;241m=\u001B[39m\u001B[38;5;28;01mNone\u001B[39;00m, right\u001B[38;5;241m=\u001B[39m\u001B[38;5;28;01mNone\u001B[39;00m):\n\u001B[1;32m    451\u001B[0m     \u001B[38;5;28;01mif\u001B[39;00m left \u001B[38;5;129;01mis\u001B[39;00m \u001B[38;5;28;01mNone\u001B[39;00m:\n\u001B[0;32m--> 452\u001B[0m         left \u001B[38;5;241m=\u001B[39m \u001B[38;5;28mself\u001B[39m\u001B[38;5;241m.\u001B[39mvisit(node\u001B[38;5;241m.\u001B[39mleft, side\u001B[38;5;241m=\u001B[39m\u001B[38;5;124m\"\u001B[39m\u001B[38;5;124mleft\u001B[39m\u001B[38;5;124m\"\u001B[39m)\n\u001B[1;32m    453\u001B[0m     \u001B[38;5;28;01mif\u001B[39;00m right \u001B[38;5;129;01mis\u001B[39;00m \u001B[38;5;28;01mNone\u001B[39;00m:\n\u001B[1;32m    454\u001B[0m         right \u001B[38;5;241m=\u001B[39m \u001B[38;5;28mself\u001B[39m\u001B[38;5;241m.\u001B[39mvisit(node\u001B[38;5;241m.\u001B[39mright, side\u001B[38;5;241m=\u001B[39m\u001B[38;5;124m\"\u001B[39m\u001B[38;5;124mright\u001B[39m\u001B[38;5;124m\"\u001B[39m)\n",
      "File \u001B[0;32m~/miniconda3/lib/python3.12/site-packages/pandas/core/computation/expr.py:412\u001B[0m, in \u001B[0;36mBaseExprVisitor.visit\u001B[0;34m(self, node, **kwargs)\u001B[0m\n\u001B[1;32m    410\u001B[0m method \u001B[38;5;241m=\u001B[39m \u001B[38;5;124mf\u001B[39m\u001B[38;5;124m\"\u001B[39m\u001B[38;5;124mvisit_\u001B[39m\u001B[38;5;132;01m{\u001B[39;00m\u001B[38;5;28mtype\u001B[39m(node)\u001B[38;5;241m.\u001B[39m\u001B[38;5;18m__name__\u001B[39m\u001B[38;5;132;01m}\u001B[39;00m\u001B[38;5;124m\"\u001B[39m\n\u001B[1;32m    411\u001B[0m visitor \u001B[38;5;241m=\u001B[39m \u001B[38;5;28mgetattr\u001B[39m(\u001B[38;5;28mself\u001B[39m, method)\n\u001B[0;32m--> 412\u001B[0m \u001B[38;5;28;01mreturn\u001B[39;00m visitor(node, \u001B[38;5;241m*\u001B[39m\u001B[38;5;241m*\u001B[39mkwargs)\n",
      "File \u001B[0;32m~/miniconda3/lib/python3.12/site-packages/pandas/core/computation/expr.py:576\u001B[0m, in \u001B[0;36mBaseExprVisitor.visit_Subscript\u001B[0;34m(self, node, **kwargs)\u001B[0m\n\u001B[1;32m    573\u001B[0m \u001B[38;5;28;01mdef\u001B[39;00m \u001B[38;5;21mvisit_Subscript\u001B[39m(\u001B[38;5;28mself\u001B[39m, node, \u001B[38;5;241m*\u001B[39m\u001B[38;5;241m*\u001B[39mkwargs) \u001B[38;5;241m-\u001B[39m\u001B[38;5;241m>\u001B[39m Term:\n\u001B[1;32m    574\u001B[0m     \u001B[38;5;28;01mfrom\u001B[39;00m \u001B[38;5;21;01mpandas\u001B[39;00m \u001B[38;5;28;01mimport\u001B[39;00m \u001B[38;5;28meval\u001B[39m \u001B[38;5;28;01mas\u001B[39;00m pd_eval\n\u001B[0;32m--> 576\u001B[0m     value \u001B[38;5;241m=\u001B[39m \u001B[38;5;28mself\u001B[39m\u001B[38;5;241m.\u001B[39mvisit(node\u001B[38;5;241m.\u001B[39mvalue)\n\u001B[1;32m    577\u001B[0m     slobj \u001B[38;5;241m=\u001B[39m \u001B[38;5;28mself\u001B[39m\u001B[38;5;241m.\u001B[39mvisit(node\u001B[38;5;241m.\u001B[39mslice)\n\u001B[1;32m    578\u001B[0m     result \u001B[38;5;241m=\u001B[39m pd_eval(\n\u001B[1;32m    579\u001B[0m         slobj, local_dict\u001B[38;5;241m=\u001B[39m\u001B[38;5;28mself\u001B[39m\u001B[38;5;241m.\u001B[39menv, engine\u001B[38;5;241m=\u001B[39m\u001B[38;5;28mself\u001B[39m\u001B[38;5;241m.\u001B[39mengine, parser\u001B[38;5;241m=\u001B[39m\u001B[38;5;28mself\u001B[39m\u001B[38;5;241m.\u001B[39mparser\n\u001B[1;32m    580\u001B[0m     )\n",
      "File \u001B[0;32m~/miniconda3/lib/python3.12/site-packages/pandas/core/computation/expr.py:412\u001B[0m, in \u001B[0;36mBaseExprVisitor.visit\u001B[0;34m(self, node, **kwargs)\u001B[0m\n\u001B[1;32m    410\u001B[0m method \u001B[38;5;241m=\u001B[39m \u001B[38;5;124mf\u001B[39m\u001B[38;5;124m\"\u001B[39m\u001B[38;5;124mvisit_\u001B[39m\u001B[38;5;132;01m{\u001B[39;00m\u001B[38;5;28mtype\u001B[39m(node)\u001B[38;5;241m.\u001B[39m\u001B[38;5;18m__name__\u001B[39m\u001B[38;5;132;01m}\u001B[39;00m\u001B[38;5;124m\"\u001B[39m\n\u001B[1;32m    411\u001B[0m visitor \u001B[38;5;241m=\u001B[39m \u001B[38;5;28mgetattr\u001B[39m(\u001B[38;5;28mself\u001B[39m, method)\n\u001B[0;32m--> 412\u001B[0m \u001B[38;5;28;01mreturn\u001B[39;00m visitor(node, \u001B[38;5;241m*\u001B[39m\u001B[38;5;241m*\u001B[39mkwargs)\n",
      "File \u001B[0;32m~/miniconda3/lib/python3.12/site-packages/pandas/core/computation/expr.py:545\u001B[0m, in \u001B[0;36mBaseExprVisitor.visit_Name\u001B[0;34m(self, node, **kwargs)\u001B[0m\n\u001B[1;32m    544\u001B[0m \u001B[38;5;28;01mdef\u001B[39;00m \u001B[38;5;21mvisit_Name\u001B[39m(\u001B[38;5;28mself\u001B[39m, node, \u001B[38;5;241m*\u001B[39m\u001B[38;5;241m*\u001B[39mkwargs) \u001B[38;5;241m-\u001B[39m\u001B[38;5;241m>\u001B[39m Term:\n\u001B[0;32m--> 545\u001B[0m     \u001B[38;5;28;01mreturn\u001B[39;00m \u001B[38;5;28mself\u001B[39m\u001B[38;5;241m.\u001B[39mterm_type(node\u001B[38;5;241m.\u001B[39mid, \u001B[38;5;28mself\u001B[39m\u001B[38;5;241m.\u001B[39menv, \u001B[38;5;241m*\u001B[39m\u001B[38;5;241m*\u001B[39mkwargs)\n",
      "File \u001B[0;32m~/miniconda3/lib/python3.12/site-packages/pandas/core/computation/ops.py:91\u001B[0m, in \u001B[0;36mTerm.__init__\u001B[0;34m(self, name, env, side, encoding)\u001B[0m\n\u001B[1;32m     89\u001B[0m tname \u001B[38;5;241m=\u001B[39m \u001B[38;5;28mstr\u001B[39m(name)\n\u001B[1;32m     90\u001B[0m \u001B[38;5;28mself\u001B[39m\u001B[38;5;241m.\u001B[39mis_local \u001B[38;5;241m=\u001B[39m tname\u001B[38;5;241m.\u001B[39mstartswith(LOCAL_TAG) \u001B[38;5;129;01mor\u001B[39;00m tname \u001B[38;5;129;01min\u001B[39;00m DEFAULT_GLOBALS\n\u001B[0;32m---> 91\u001B[0m \u001B[38;5;28mself\u001B[39m\u001B[38;5;241m.\u001B[39m_value \u001B[38;5;241m=\u001B[39m \u001B[38;5;28mself\u001B[39m\u001B[38;5;241m.\u001B[39m_resolve_name()\n\u001B[1;32m     92\u001B[0m \u001B[38;5;28mself\u001B[39m\u001B[38;5;241m.\u001B[39mencoding \u001B[38;5;241m=\u001B[39m encoding\n",
      "File \u001B[0;32m~/miniconda3/lib/python3.12/site-packages/pandas/core/computation/ops.py:115\u001B[0m, in \u001B[0;36mTerm._resolve_name\u001B[0;34m(self)\u001B[0m\n\u001B[1;32m    110\u001B[0m \u001B[38;5;28;01mif\u001B[39;00m local_name \u001B[38;5;129;01min\u001B[39;00m \u001B[38;5;28mself\u001B[39m\u001B[38;5;241m.\u001B[39menv\u001B[38;5;241m.\u001B[39mscope \u001B[38;5;129;01mand\u001B[39;00m \u001B[38;5;28misinstance\u001B[39m(\n\u001B[1;32m    111\u001B[0m     \u001B[38;5;28mself\u001B[39m\u001B[38;5;241m.\u001B[39menv\u001B[38;5;241m.\u001B[39mscope[local_name], \u001B[38;5;28mtype\u001B[39m\n\u001B[1;32m    112\u001B[0m ):\n\u001B[1;32m    113\u001B[0m     is_local \u001B[38;5;241m=\u001B[39m \u001B[38;5;28;01mFalse\u001B[39;00m\n\u001B[0;32m--> 115\u001B[0m res \u001B[38;5;241m=\u001B[39m \u001B[38;5;28mself\u001B[39m\u001B[38;5;241m.\u001B[39menv\u001B[38;5;241m.\u001B[39mresolve(local_name, is_local\u001B[38;5;241m=\u001B[39mis_local)\n\u001B[1;32m    116\u001B[0m \u001B[38;5;28mself\u001B[39m\u001B[38;5;241m.\u001B[39mupdate(res)\n\u001B[1;32m    118\u001B[0m \u001B[38;5;28;01mif\u001B[39;00m \u001B[38;5;28mhasattr\u001B[39m(res, \u001B[38;5;124m\"\u001B[39m\u001B[38;5;124mndim\u001B[39m\u001B[38;5;124m\"\u001B[39m) \u001B[38;5;129;01mand\u001B[39;00m res\u001B[38;5;241m.\u001B[39mndim \u001B[38;5;241m>\u001B[39m \u001B[38;5;241m2\u001B[39m:\n",
      "File \u001B[0;32m~/miniconda3/lib/python3.12/site-packages/pandas/core/computation/scope.py:244\u001B[0m, in \u001B[0;36mScope.resolve\u001B[0;34m(self, key, is_local)\u001B[0m\n\u001B[1;32m    242\u001B[0m     \u001B[38;5;28;01mreturn\u001B[39;00m \u001B[38;5;28mself\u001B[39m\u001B[38;5;241m.\u001B[39mtemps[key]\n\u001B[1;32m    243\u001B[0m \u001B[38;5;28;01mexcept\u001B[39;00m \u001B[38;5;167;01mKeyError\u001B[39;00m \u001B[38;5;28;01mas\u001B[39;00m err:\n\u001B[0;32m--> 244\u001B[0m     \u001B[38;5;28;01mraise\u001B[39;00m UndefinedVariableError(key, is_local) \u001B[38;5;28;01mfrom\u001B[39;00m \u001B[38;5;21;01merr\u001B[39;00m\n",
      "\u001B[0;31mUndefinedVariableError\u001B[0m: name 'id_stat' is not defined"
     ]
    }
   ],
   "execution_count": 59
  },
  {
   "cell_type": "markdown",
   "source": [
    "Цены на бриллианты колеблются довольно значительно, попробуйте рассчитать уровень инфляции и скорректировать цены на последний месяц. Следует отметить, что не все цены на бриллианты изменяются синхронно, то есть изменение в отдельных группах может быть разным.\n",
    "\n",
    "*Определите эти группы и рассчитайте коэффициенты инфляции для каждой из них. Скорректируйте цены на эти коэффициенты и создайте переменную.*"
   ],
   "metadata": {
    "id": "NnsNVat_CIPB"
   }
  },
  {
   "cell_type": "code",
   "source": [
    "categories = ['...'] # определите группы, по которым будет сегментироваться инфляция (например, вы можете добавить группу каратов)\n",
    "\n",
    "df_index = df.groupby(['date'] + categories)[['price_per_carat']]\\\n",
    "             .mean()\\\n",
    "             .reset_index() #ценовой индекс\n",
    "\n",
    "date_max = df_index.date.max()\n",
    "\n",
    "\n",
    "df_index = df_index.merge(df_index.query('date == @date_max')[categories + ['price_per_carat']]\\\n",
    "                          .rename(columns={'price_per_carat': 'price_per_carat_max'}),\n",
    "                          on=categories, how='outer') # сопоставление групп с максимальной датой\n",
    "\n",
    "df_index['inflation'] = df_index.['...'] / df_index.price_per_carat # расчет инфляции\n",
    "\n",
    "df_with_inf = df.merge(df_index[['date'] + categories + ['inflation']], on=['date'] + categories, how='left')# объединение всех данных в одну таблицу"
   ],
   "metadata": {
    "id": "OPvHv0yce362"
   },
   "execution_count": null,
   "outputs": []
  },
  {
   "cell_type": "markdown",
   "source": [
    "### Задание 2: Модель"
   ],
   "metadata": {
    "id": "xuPhXT9aESGs"
   }
  },
  {
   "cell_type": "markdown",
   "source": [
    "Определите функцию потерь (MSE или MAE) и обоснуйте свой выбор. Попробуйте построить baseline. Используйте LabelEncoder для категориальных признаков и **постройте линейную модель**."
   ],
   "metadata": {
    "id": "v3OgAHMiExrW"
   }
  },
  {
   "cell_type": "code",
   "source": [
    "from sklearn.model_selection import train_test_split\n",
    "from sklearn.preprocessing import LableEncoder\n",
    "from sklearn.metrics import ...\n",
    "\n",
    "\n",
    "X = df.drop(columns=[\"...\"])\n",
    "y = df[\"...\"]\n",
    "\n",
    "X_train, X_valid, y_train, y_valid = train_test_split(X, y, test_size=0.2, random_state=13)"
   ],
   "metadata": {
    "id": "BEvWYr1uEKJU"
   },
   "execution_count": null,
   "outputs": []
  },
  {
   "cell_type": "markdown",
   "source": [
    "Теперь попробуйте OHE (One Hot Encoding) или TargetEncoder (сравните их).\n",
    "\n",
    "Нормализуйте данные.\n",
    "\n",
    "Поработайте с отсутствующими значениями (обратите внимание, что для 'fluor' значение может быть пропущено или флюоресценция может отсутствовать).\n",
    "\n",
    "Покажите, насколько вам удалось улучшить результат."
   ],
   "metadata": {
    "id": "Z9kiKhHuFDUD"
   }
  },
  {
   "cell_type": "code",
   "source": [
    "! pip install category_encoders"
   ],
   "metadata": {
    "id": "LeLrnXuepjjb"
   },
   "execution_count": null,
   "outputs": []
  },
  {
   "cell_type": "code",
   "source": [
    "from sklearn.preprocessing import OneHotEncoder\n",
    "from category_encoders import TargetEncoder\n",
    "from sklearn.preprocessing import StandardScaler\n",
    "\n",
    "from typing import Tuple, List\n",
    "\n",
    "\n",
    "def OHE(df: pd.DataFrame, columns: List[str]) -> Tuple[pd.DataFrame, List[str]]:\n",
    "    \"\"\"\n",
    "    Instead of this function you can use Pandas functionality\n",
    "    \"\"\"\n",
    "    index = df.index\n",
    "    one = OneHotEncoder(sparse=False, categories='auto')\n",
    "    ohe = one.fit_transform(df[columns])\n",
    "    col_names = one.get_feature_names(input_features = columns)\n",
    "    df = df.drop(columns, axis=1)\n",
    "    df = df.reset_index(drop=True)\n",
    "    df = pd.concat([df, pd.DataFrame(ohe, columns=col_names)], axis = 1)\n",
    "    df = df.set_index(index)\n",
    "    return (df, col_names)\n",
    "\n",
    "scaler = StandardScaler() # Помните, что здесь мы выполняем только преобразование"
   ],
   "metadata": {
    "id": "becHgg71Iria"
   },
   "execution_count": null,
   "outputs": []
  },
  {
   "cell_type": "markdown",
   "source": [
    "Сравните результаты вашей модели с результатами KNN"
   ],
   "metadata": {
    "id": "tnJUqYqWoqgk"
   }
  },
  {
   "cell_type": "code",
   "source": [
    "from sklearn.neighbors import KNeighborsRegressor\n",
    "\n",
    "..."
   ],
   "metadata": {
    "id": "bhKgkdw5ou4A"
   },
   "execution_count": null,
   "outputs": []
  },
  {
   "cell_type": "markdown",
   "source": [
    "## Деревья решений"
   ],
   "metadata": {
    "id": "G99aXglOYmvU"
   }
  },
  {
   "cell_type": "markdown",
   "source": [
    "Попробуйте выполнить то же задание, но с помощью модели Decision Trees."
   ],
   "metadata": {
    "id": "PB1ScJ7lgzu4"
   }
  },
  {
   "cell_type": "code",
   "source": [
    "# your code here"
   ],
   "metadata": {
    "id": "OPbDQ7psYshp"
   },
   "execution_count": null,
   "outputs": []
  },
  {
   "cell_type": "markdown",
   "source": [
    "## Ансамблевые методы"
   ],
   "metadata": {
    "id": "MeU9D2k8YvOQ"
   }
  },
  {
   "cell_type": "markdown",
   "source": [
    "Попробуйте выполнить то же задание, но с использованием ансамблевых методов (модель случайного леса)."
   ],
   "metadata": {
    "id": "rMTEA0FwhJPo"
   }
  },
  {
   "cell_type": "code",
   "source": [
    "# your code here"
   ],
   "metadata": {
    "id": "mGx1jeCvY0nF"
   },
   "execution_count": null,
   "outputs": []
  },
  {
   "cell_type": "markdown",
   "source": [
    "## Заключение"
   ],
   "metadata": {
    "id": "61wmMcD6hjpC"
   }
  },
  {
   "cell_type": "markdown",
   "source": [
    "Сравните все модели, выберите лучшую и сделайте вывод о задании в целом."
   ],
   "metadata": {
    "id": "Kr1hJwJvhm7m"
   }
  },
  {
   "cell_type": "markdown",
   "source": [
    "<Ваш вывод здесь >"
   ],
   "metadata": {
    "id": "plEERC62h7ba"
   }
  }
 ]
}
