{
  "nbformat": 4,
  "nbformat_minor": 0,
  "metadata": {
    "colab": {
      "provenance": []
    },
    "kernelspec": {
      "name": "python3",
      "display_name": "Python 3"
    },
    "language_info": {
      "name": "python"
    }
  },
  "cells": [
    {
      "cell_type": "markdown",
      "source": [
        "# Проект"
      ],
      "metadata": {
        "id": "jyJswrIfpbmA"
      }
    },
    {
      "cell_type": "markdown",
      "source": [
        "## Регрессия"
      ],
      "metadata": {
        "id": "r_lVVaJl2Ncb"
      }
    },
    {
      "cell_type": "markdown",
      "source": [
        "С 1 октября НДС на бриллианты отменяется, что делает их новым инвестиционным инструментом. Давайте создадим для них модель ценообразования.\n",
        "\n",
        "Скачайте набор данных diamonds.csv\n",
        "\n",
        "It cОн содержит характеристики бриллиантов и цены на них с сайта jamesallen (B2C-платформа) по состоянию на 2022-07-01\n",
        "\n",
        "**Описание характеристик**\n",
        "\n",
        "* fluor - флюоресценция (свойство драгоценного камня светиться под * symmetry - показатель симметрии\n",
        "* platform - название платформы, на которой был размещен драгоценный камень\n",
        "* quality_group - составной показатель из симметрии огранки полировки\n",
        "* size_group - группа по весу карата\n",
        "* big_size_group - группа по весу карата\n",
        "* shape - форма\n",
        "* color - цвет\n",
        "* clarity - чистота\n",
        "* cut - качество огранки (может быть только для круглых камней)\n",
        "* polish - полировка\n",
        "* id - номер драгоценного камня\n",
        "* date - дата\n",
        "* price - цена\n",
        "* carat - количество каратов\n",
        "* tablepercent - размер таблицы по сравнению с шириной\n",
        "* price_per_carat - цена за карат\n",
        "* z - длина (диаметр)\n",
        "* x - ширина\n",
        "* depth_perc - отношение высоты к ширине\n",
        "* y - высота"
      ],
      "metadata": {
        "id": "XjOCpvogZ2dR"
      }
    },
    {
      "cell_type": "code",
      "source": [
        "import pandas as pd\n",
        "import numpy as np"
      ],
      "metadata": {
        "id": "iOnp-6t565z8"
      },
      "execution_count": null,
      "outputs": []
    },
    {
      "cell_type": "code",
      "source": [
        "df = pd.read_csv('diamonds.csv')"
      ],
      "metadata": {
        "id": "iG7MP6VZ2UZN"
      },
      "execution_count": null,
      "outputs": []
    },
    {
      "cell_type": "markdown",
      "source": [
        "Это нужно для того, чтобы предсказать `price_per_carat`."
      ],
      "metadata": {
        "id": "PD8Sv2_ktIqx"
      }
    },
    {
      "cell_type": "markdown",
      "source": [
        "### Задание 1: Очистка данных\n",
        "Не все драгоценные камни удается продать в течение месяца, поэтому в таблице есть повторы. Объедините данные по каждому самоцвету: подумайте, как лучше это сделать, какую цену взять.\n",
        "\n",
        "**Постарайтесь найти аномалии:** возможно, цена на некоторые самоцветы резко меняется (то есть продавец сам не знает, по какой цене их продавать). Также убедитесь, что другие параметры драгоценного камня не меняются."
      ],
      "metadata": {
        "id": "HEBGHQkD7DWw"
      }
    },
    {
      "cell_type": "code",
      "source": [
        "id_stat = df.groupby(by='...')['carat'].count().to_frame() # Подсчитайте статистику по количеству драгоценных камней\n",
        "\n",
        "# Разделите выборку на две части\n",
        "df_one = df.query('...') # те драгоценные камни, которые встречаются однажды\n",
        "df_three = df.query('...') # те драгоценные камни, которые встречались 2 или 3 раза\n",
        "# подумайте, где он должен быть равен 0, а где должен изменяться в разумных пределах\n",
        "\n",
        "# Удалите аномальные значения и выбросы\n",
        "df_three = df_three.query('...').sort_values(by=['id','date'])\n",
        "\n",
        "df_three = df_three.groupby('...').agg('l...').reset_index() # Теперь возьмите в качестве цены последнее по времени значение\n",
        "\n",
        "df = pd.concat([df_one, df_three]).reset_index(drop=True) # Теперь объедините, чтобы получить результат"
      ],
      "metadata": {
        "id": "YUaUjnMVbt-i"
      },
      "execution_count": null,
      "outputs": []
    },
    {
      "cell_type": "markdown",
      "source": [
        "Цены на бриллианты колеблются довольно значительно, попробуйте рассчитать уровень инфляции и скорректировать цены на последний месяц. Следует отметить, что не все цены на бриллианты изменяются синхронно, то есть изменение в отдельных группах может быть разным.\n",
        "\n",
        "*Определите эти группы и рассчитайте коэффициенты инфляции для каждой из них. Скорректируйте цены на эти коэффициенты и создайте переменную.*"
      ],
      "metadata": {
        "id": "NnsNVat_CIPB"
      }
    },
    {
      "cell_type": "code",
      "source": [
        "categories = ['...'] # определите группы, по которым будет сегментироваться инфляция (например, вы можете добавить группу каратов)\n",
        "\n",
        "df_index = df.groupby(['date'] + categories)[['price_per_carat']]\\\n",
        "             .mean()\\\n",
        "             .reset_index() #ценовой индекс\n",
        "\n",
        "date_max = df_index.date.max()\n",
        "\n",
        "\n",
        "df_index = df_index.merge(df_index.query('date == @date_max')[categories + ['price_per_carat']]\\\n",
        "                          .rename(columns={'price_per_carat': 'price_per_carat_max'}),\n",
        "                          on=categories, how='outer') # сопоставление групп с максимальной датой\n",
        "\n",
        "df_index['inflation'] = df_index.['...'] / df_index.price_per_carat # расчет инфляции\n",
        "\n",
        "df_with_inf = df.merge(df_index[['date'] + categories + ['inflation']], on=['date'] + categories, how='left')# объединение всех данных в одну таблицу"
      ],
      "metadata": {
        "id": "OPvHv0yce362"
      },
      "execution_count": null,
      "outputs": []
    },
    {
      "cell_type": "markdown",
      "source": [
        "### Задание 2: Модель"
      ],
      "metadata": {
        "id": "xuPhXT9aESGs"
      }
    },
    {
      "cell_type": "markdown",
      "source": [
        "Определите функцию потерь (MSE или MAE) и обоснуйте свой выбор. Попробуйте построить baseline. Используйте LabelEncoder для категориальных признаков и **постройте линейную модель**."
      ],
      "metadata": {
        "id": "v3OgAHMiExrW"
      }
    },
    {
      "cell_type": "code",
      "source": [
        "from sklearn.model_selection import train_test_split\n",
        "from sklearn.preprocessing import LableEncoder\n",
        "from sklearn.metrics import ...\n",
        "\n",
        "\n",
        "X = df.drop(columns=[\"...\"])\n",
        "y = df[\"...\"]\n",
        "\n",
        "X_train, X_valid, y_train, y_valid = train_test_split(X, y, test_size=0.2, random_state=13)"
      ],
      "metadata": {
        "id": "BEvWYr1uEKJU"
      },
      "execution_count": null,
      "outputs": []
    },
    {
      "cell_type": "markdown",
      "source": [
        "Теперь попробуйте OHE (One Hot Encoding) или TargetEncoder (сравните их).\n",
        "\n",
        "Нормализуйте данные.\n",
        "\n",
        "Поработайте с отсутствующими значениями (обратите внимание, что для 'fluor' значение может быть пропущено или флюоресценция может отсутствовать).\n",
        "\n",
        "Покажите, насколько вам удалось улучшить результат."
      ],
      "metadata": {
        "id": "Z9kiKhHuFDUD"
      }
    },
    {
      "cell_type": "code",
      "source": [
        "! pip install category_encoders"
      ],
      "metadata": {
        "id": "LeLrnXuepjjb"
      },
      "execution_count": null,
      "outputs": []
    },
    {
      "cell_type": "code",
      "source": [
        "from sklearn.preprocessing import OneHotEncoder\n",
        "from category_encoders import TargetEncoder\n",
        "from sklearn.preprocessing import StandardScaler\n",
        "\n",
        "from typing import Tuple, List\n",
        "\n",
        "\n",
        "def OHE(df: pd.DataFrame, columns: List[str]) -> Tuple[pd.DataFrame, List[str]]:\n",
        "    \"\"\"\n",
        "    Instead of this function you can use Pandas functionality\n",
        "    \"\"\"\n",
        "    index = df.index\n",
        "    one = OneHotEncoder(sparse=False, categories='auto')\n",
        "    ohe = one.fit_transform(df[columns])\n",
        "    col_names = one.get_feature_names(input_features = columns)\n",
        "    df = df.drop(columns, axis=1)\n",
        "    df = df.reset_index(drop=True)\n",
        "    df = pd.concat([df, pd.DataFrame(ohe, columns=col_names)], axis = 1)\n",
        "    df = df.set_index(index)\n",
        "    return (df, col_names)\n",
        "\n",
        "scaler = StandardScaler() # Помните, что здесь мы выполняем только преобразование"
      ],
      "metadata": {
        "id": "becHgg71Iria"
      },
      "execution_count": null,
      "outputs": []
    },
    {
      "cell_type": "markdown",
      "source": [
        "Сравните результаты вашей модели с результатами KNN"
      ],
      "metadata": {
        "id": "tnJUqYqWoqgk"
      }
    },
    {
      "cell_type": "code",
      "source": [
        "from sklearn.neighbors import KNeighborsRegressor\n",
        "\n",
        "..."
      ],
      "metadata": {
        "id": "bhKgkdw5ou4A"
      },
      "execution_count": null,
      "outputs": []
    },
    {
      "cell_type": "markdown",
      "source": [
        "## Деревья решений"
      ],
      "metadata": {
        "id": "G99aXglOYmvU"
      }
    },
    {
      "cell_type": "markdown",
      "source": [
        "Попробуйте выполнить то же задание, но с помощью модели Decision Trees."
      ],
      "metadata": {
        "id": "PB1ScJ7lgzu4"
      }
    },
    {
      "cell_type": "code",
      "source": [
        "# your code here"
      ],
      "metadata": {
        "id": "OPbDQ7psYshp"
      },
      "execution_count": null,
      "outputs": []
    },
    {
      "cell_type": "markdown",
      "source": [
        "## Ансамблевые методы"
      ],
      "metadata": {
        "id": "MeU9D2k8YvOQ"
      }
    },
    {
      "cell_type": "markdown",
      "source": [
        "Попробуйте выполнить то же задание, но с использованием ансамблевых методов (модель случайного леса)."
      ],
      "metadata": {
        "id": "rMTEA0FwhJPo"
      }
    },
    {
      "cell_type": "code",
      "source": [
        "# your code here"
      ],
      "metadata": {
        "id": "mGx1jeCvY0nF"
      },
      "execution_count": null,
      "outputs": []
    },
    {
      "cell_type": "markdown",
      "source": [
        "## Заключение"
      ],
      "metadata": {
        "id": "61wmMcD6hjpC"
      }
    },
    {
      "cell_type": "markdown",
      "source": [
        "Сравните все модели, выберите лучшую и сделайте вывод о задании в целом."
      ],
      "metadata": {
        "id": "Kr1hJwJvhm7m"
      }
    },
    {
      "cell_type": "markdown",
      "source": [
        "<Ваш вывод здесь >"
      ],
      "metadata": {
        "id": "plEERC62h7ba"
      }
    }
  ]
}