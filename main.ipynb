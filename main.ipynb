{
 "nbformat": 4,
 "nbformat_minor": 0,
 "metadata": {
  "colab": {
   "provenance": []
  },
  "kernelspec": {
   "name": "python3",
   "display_name": "Python 3 (ipykernel)",
   "language": "python"
  },
  "language_info": {
   "name": "python"
  }
 },
 "cells": [
  {
   "cell_type": "markdown",
   "source": [
    "# Проект\n",
    "\n",
    "#### Григорьев Максим"
   ],
   "metadata": {
    "id": "jyJswrIfpbmA"
   }
  },
  {
   "metadata": {},
   "cell_type": "markdown",
   "source": [
    "### Задание и описание данных \n",
    "\n",
    "С 1 октября НДС на бриллианты отменяется, что делает их новым инвестиционным инструментом. Давайте создадим для них модель ценообразования. Dataset содержит характеристики бриллиантов и цены на них с сайта jamesallen (B2C-платформа) по состоянию на 2022-07-01\n",
    "\n",
    "**Описание характеристик**\n",
    "\n",
    "* fluor - флюоресценция (свойство драгоценного камня светиться) \n",
    "* symmetry - показатель симметрии\n",
    "* platform - название платформы, на которой был размещен драгоценный камень\n",
    "* shape - форма\n",
    "* color - цвет\n",
    "* clarity - чистота\n",
    "* cut - качество огранки (может быть только для круглых камней)\n",
    "* polish - полировка\n",
    "* id - номер драгоценного камня\n",
    "* date - дата\n",
    "* price - цена\n",
    "* carat - количество каратов\n",
    "* price_per_carat - цена за карат\n",
    "* z - длина (диаметр)\n",
    "* x - ширина\n",
    "* depth_perc - отношение высоты к ширине\n",
    "* y - высота"
   ]
  },
  {
   "metadata": {},
   "cell_type": "markdown",
   "source": "#### Подключение необходимых библиотек"
  },
  {
   "metadata": {
    "ExecuteTime": {
     "end_time": "2025-01-12T10:16:24.898491Z",
     "start_time": "2025-01-12T10:16:24.690517Z"
    }
   },
   "cell_type": "code",
   "source": [
    "import pandas as pd\n",
    "import numpy as np\n",
    "\n",
    "from sklearn.model_selection import train_test_split\n",
    "from sklearn.preprocessing import LabelEncoder, StandardScaler, OneHotEncoder\n",
    "from sklearn.ensemble import RandomForestRegressor\n",
    "from sklearn.linear_model import LinearRegression\n",
    "from sklearn.metrics import mean_absolute_error\n",
    "from sklearn.tree import DecisionTreeRegressor\n",
    "from sklearn.neighbors import KNeighborsRegressor\n",
    "from category_encoders import TargetEncoder\n",
    "\n",
    "from typing import Tuple, List"
   ],
   "outputs": [],
   "execution_count": 23
  },
  {
   "cell_type": "code",
   "source": [
    "df = pd.read_csv('diamonds.csv')\n",
    "df.head()"
   ],
   "metadata": {
    "id": "iG7MP6VZ2UZN",
    "ExecuteTime": {
     "end_time": "2025-01-12T10:09:15.774878Z",
     "start_time": "2025-01-12T10:09:15.596470Z"
    }
   },
   "outputs": [
    {
     "data": {
      "text/plain": [
       "   Unnamed: 0 fluor symmetry    platform shape color clarity  cut polish  \\\n",
       "0      135269  NONE       EX  jamesallen    PS     F     SI1  NaN     EX   \n",
       "1       48477   MED       EX  jamesallen    RD     H    VVS2   EX     EX   \n",
       "2      236786  NONE       EX  jamesallen    EM     H      IF  NaN     EX   \n",
       "3      235781  NONE       EX  jamesallen    RD     E     VS2   EX     EX   \n",
       "4      277744  NONE       VG  jamesallen    RD     F     VS1   VG     EX   \n",
       "\n",
       "         id    date    price  carat  price_per_carat      z     x  depth_perc  \\\n",
       "0  13870838  202206  12850.0   1.55          8290.32  10.29  6.41        62.0   \n",
       "1  11725253  202207   7510.0   1.02          7362.75   6.41  6.45        62.5   \n",
       "2  14444347  202205  21220.0   2.01         10557.21   8.60  6.37        65.0   \n",
       "3  14438434  202207   8660.0   1.00          8660.00   6.39  6.44        61.4   \n",
       "4  14615276  202206   8480.0   1.00          8480.00   6.28  6.36        62.3   \n",
       "\n",
       "         y  \n",
       "0  3.97420  \n",
       "1  4.03125  \n",
       "2  4.14050  \n",
       "3  3.95416  \n",
       "4  3.96228  "
      ],
      "text/html": [
       "<div>\n",
       "<style scoped>\n",
       "    .dataframe tbody tr th:only-of-type {\n",
       "        vertical-align: middle;\n",
       "    }\n",
       "\n",
       "    .dataframe tbody tr th {\n",
       "        vertical-align: top;\n",
       "    }\n",
       "\n",
       "    .dataframe thead th {\n",
       "        text-align: right;\n",
       "    }\n",
       "</style>\n",
       "<table border=\"1\" class=\"dataframe\">\n",
       "  <thead>\n",
       "    <tr style=\"text-align: right;\">\n",
       "      <th></th>\n",
       "      <th>Unnamed: 0</th>\n",
       "      <th>fluor</th>\n",
       "      <th>symmetry</th>\n",
       "      <th>platform</th>\n",
       "      <th>shape</th>\n",
       "      <th>color</th>\n",
       "      <th>clarity</th>\n",
       "      <th>cut</th>\n",
       "      <th>polish</th>\n",
       "      <th>id</th>\n",
       "      <th>date</th>\n",
       "      <th>price</th>\n",
       "      <th>carat</th>\n",
       "      <th>price_per_carat</th>\n",
       "      <th>z</th>\n",
       "      <th>x</th>\n",
       "      <th>depth_perc</th>\n",
       "      <th>y</th>\n",
       "    </tr>\n",
       "  </thead>\n",
       "  <tbody>\n",
       "    <tr>\n",
       "      <th>0</th>\n",
       "      <td>135269</td>\n",
       "      <td>NONE</td>\n",
       "      <td>EX</td>\n",
       "      <td>jamesallen</td>\n",
       "      <td>PS</td>\n",
       "      <td>F</td>\n",
       "      <td>SI1</td>\n",
       "      <td>NaN</td>\n",
       "      <td>EX</td>\n",
       "      <td>13870838</td>\n",
       "      <td>202206</td>\n",
       "      <td>12850.0</td>\n",
       "      <td>1.55</td>\n",
       "      <td>8290.32</td>\n",
       "      <td>10.29</td>\n",
       "      <td>6.41</td>\n",
       "      <td>62.0</td>\n",
       "      <td>3.97420</td>\n",
       "    </tr>\n",
       "    <tr>\n",
       "      <th>1</th>\n",
       "      <td>48477</td>\n",
       "      <td>MED</td>\n",
       "      <td>EX</td>\n",
       "      <td>jamesallen</td>\n",
       "      <td>RD</td>\n",
       "      <td>H</td>\n",
       "      <td>VVS2</td>\n",
       "      <td>EX</td>\n",
       "      <td>EX</td>\n",
       "      <td>11725253</td>\n",
       "      <td>202207</td>\n",
       "      <td>7510.0</td>\n",
       "      <td>1.02</td>\n",
       "      <td>7362.75</td>\n",
       "      <td>6.41</td>\n",
       "      <td>6.45</td>\n",
       "      <td>62.5</td>\n",
       "      <td>4.03125</td>\n",
       "    </tr>\n",
       "    <tr>\n",
       "      <th>2</th>\n",
       "      <td>236786</td>\n",
       "      <td>NONE</td>\n",
       "      <td>EX</td>\n",
       "      <td>jamesallen</td>\n",
       "      <td>EM</td>\n",
       "      <td>H</td>\n",
       "      <td>IF</td>\n",
       "      <td>NaN</td>\n",
       "      <td>EX</td>\n",
       "      <td>14444347</td>\n",
       "      <td>202205</td>\n",
       "      <td>21220.0</td>\n",
       "      <td>2.01</td>\n",
       "      <td>10557.21</td>\n",
       "      <td>8.60</td>\n",
       "      <td>6.37</td>\n",
       "      <td>65.0</td>\n",
       "      <td>4.14050</td>\n",
       "    </tr>\n",
       "    <tr>\n",
       "      <th>3</th>\n",
       "      <td>235781</td>\n",
       "      <td>NONE</td>\n",
       "      <td>EX</td>\n",
       "      <td>jamesallen</td>\n",
       "      <td>RD</td>\n",
       "      <td>E</td>\n",
       "      <td>VS2</td>\n",
       "      <td>EX</td>\n",
       "      <td>EX</td>\n",
       "      <td>14438434</td>\n",
       "      <td>202207</td>\n",
       "      <td>8660.0</td>\n",
       "      <td>1.00</td>\n",
       "      <td>8660.00</td>\n",
       "      <td>6.39</td>\n",
       "      <td>6.44</td>\n",
       "      <td>61.4</td>\n",
       "      <td>3.95416</td>\n",
       "    </tr>\n",
       "    <tr>\n",
       "      <th>4</th>\n",
       "      <td>277744</td>\n",
       "      <td>NONE</td>\n",
       "      <td>VG</td>\n",
       "      <td>jamesallen</td>\n",
       "      <td>RD</td>\n",
       "      <td>F</td>\n",
       "      <td>VS1</td>\n",
       "      <td>VG</td>\n",
       "      <td>EX</td>\n",
       "      <td>14615276</td>\n",
       "      <td>202206</td>\n",
       "      <td>8480.0</td>\n",
       "      <td>1.00</td>\n",
       "      <td>8480.00</td>\n",
       "      <td>6.28</td>\n",
       "      <td>6.36</td>\n",
       "      <td>62.3</td>\n",
       "      <td>3.96228</td>\n",
       "    </tr>\n",
       "  </tbody>\n",
       "</table>\n",
       "</div>"
      ]
     },
     "execution_count": 2,
     "metadata": {},
     "output_type": "execute_result"
    }
   ],
   "execution_count": 2
  },
  {
   "metadata": {
    "ExecuteTime": {
     "end_time": "2025-01-12T10:09:15.875671Z",
     "start_time": "2025-01-12T10:09:15.832670Z"
    }
   },
   "cell_type": "code",
   "source": "df.info()",
   "outputs": [
    {
     "name": "stdout",
     "output_type": "stream",
     "text": [
      "<class 'pandas.core.frame.DataFrame'>\n",
      "RangeIndex: 222222 entries, 0 to 222221\n",
      "Data columns (total 18 columns):\n",
      " #   Column           Non-Null Count   Dtype  \n",
      "---  ------           --------------   -----  \n",
      " 0   Unnamed: 0       222222 non-null  int64  \n",
      " 1   fluor            222207 non-null  object \n",
      " 2   symmetry         222218 non-null  object \n",
      " 3   platform         222218 non-null  object \n",
      " 4   shape            222218 non-null  object \n",
      " 5   color            222218 non-null  object \n",
      " 6   clarity          222218 non-null  object \n",
      " 7   cut              148981 non-null  object \n",
      " 8   polish           222218 non-null  object \n",
      " 9   id               222222 non-null  int64  \n",
      " 10  date             222222 non-null  int64  \n",
      " 11  price            222222 non-null  float64\n",
      " 12  carat            222222 non-null  float64\n",
      " 13  price_per_carat  222222 non-null  float64\n",
      " 14  z                222222 non-null  float64\n",
      " 15  x                222222 non-null  float64\n",
      " 16  depth_perc       222222 non-null  float64\n",
      " 17  y                222222 non-null  float64\n",
      "dtypes: float64(7), int64(3), object(8)\n",
      "memory usage: 30.5+ MB\n"
     ]
    }
   ],
   "execution_count": 3
  },
  {
   "metadata": {},
   "cell_type": "markdown",
   "source": "### Регрессия"
  },
  {
   "cell_type": "markdown",
   "source": [
    "#### Задание 1: Очистка данных\n",
    "Не все драгоценные камни удается продать в течение месяца, поэтому в таблице есть повторы. \n",
    "\n",
    "Объединим данные по каждому самоцвету и найдем аномалии в данных. Также убедимся, что другие параметры драгоценного камня не меняются."
   ],
   "metadata": {
    "id": "HEBGHQkD7DWw"
   }
  },
  {
   "cell_type": "code",
   "source": [
    "# Разделим выборку драгоценных камней на две части, встречающиеся 1 раз и которые встречались 2 и более раза\n",
    "df_one = df.query('id.duplicated(keep=False) == False')\n",
    "df_three = df.query('id.duplicated(keep=False) == True')\n",
    "\n",
    "# Удалим аномальные значения и выбросы\n",
    "df_three = df_three.query('price.diff().abs() <= 0.5 * price.mean()', engine='python').sort_values(by=['id', 'date'])\n",
    "\n",
    "# Возьмем в качестве цены последнее по времени значение\n",
    "df_three = df_three.groupby('id').agg('last').reset_index()\n",
    "\n",
    "# Объединим, чтобы получить результат\n",
    "df = pd.concat([df_one, df_three]).reset_index(drop=True)"
   ],
   "metadata": {
    "id": "YUaUjnMVbt-i",
    "ExecuteTime": {
     "end_time": "2025-01-12T10:09:17.143558Z",
     "start_time": "2025-01-12T10:09:17.035968Z"
    }
   },
   "outputs": [],
   "execution_count": 4
  },
  {
   "cell_type": "markdown",
   "source": "Цены на бриллианты колеблются довольно значительно, попробуем рассчитать уровень инфляции и скорректировать цены на последний месяц. Следует отметить, что не все цены на бриллианты изменяются синхронно, то есть изменение в отдельных группах может быть разным.",
   "metadata": {
    "id": "NnsNVat_CIPB"
   }
  },
  {
   "cell_type": "code",
   "source": [
    "# Определим группы, по которым будет сегментироваться инфляция\n",
    "categories = ['color', 'clarity', 'carat']  # примеры категорий, включая группу каратов\n",
    "\n",
    "# Ценовой индекс\n",
    "df_index = df.groupby(['date'] + categories)[['price']].mean().reset_index()\n",
    "\n",
    "# Сопоставление групп с максимальной датой\n",
    "date_max = df_index.date.max()  # последняя дата\n",
    "df_index = df_index.merge(\n",
    "    df_index.query('date == @date_max')[categories + ['price']].rename(columns={'price': 'price_per_carat_max'}),\n",
    "    on=categories, how='outer'\n",
    ")\n",
    "\n",
    "# Расчет инфляции\n",
    "df_index['inflation'] = df_index['price_per_carat_max'] / df_index['price']\n",
    "\n",
    "# Объединение всех данных в одну таблицу\n",
    "df_with_inf = df.merge(df_index[['date'] + categories + ['inflation']], on=['date'] + categories, how='left')"
   ],
   "metadata": {
    "id": "OPvHv0yce362",
    "ExecuteTime": {
     "end_time": "2025-01-12T10:09:18.238656Z",
     "start_time": "2025-01-12T10:09:18.147671Z"
    }
   },
   "outputs": [],
   "execution_count": 5
  },
  {
   "metadata": {
    "ExecuteTime": {
     "end_time": "2025-01-12T10:09:20.056788Z",
     "start_time": "2025-01-12T10:09:20.044095Z"
    }
   },
   "cell_type": "code",
   "source": "df_with_inf.head()",
   "outputs": [
    {
     "data": {
      "text/plain": [
       "   Unnamed: 0 fluor symmetry    platform shape color clarity  cut polish  \\\n",
       "0      189202  NONE       EX  jamesallen    PS     D     SI2  NaN     EX   \n",
       "1       76462  NONE       VG  jamesallen    EM     K     SI2  NaN     VG   \n",
       "2       72397  NONE       VG  jamesallen    PS     J     VS1  NaN     VG   \n",
       "3      269475   MED       EX  jamesallen    RD     J     SI2   EX     EX   \n",
       "4      321928  NONE       EX  jamesallen    RD     G     SI1   EX     EX   \n",
       "\n",
       "         id    date    price  carat  price_per_carat      z     x  depth_perc  \\\n",
       "0  14224443  202205   9120.0   1.51          6039.74  10.67  6.23        59.0   \n",
       "1  12902293  202205   1390.0   0.91          1527.47   6.30  4.58        71.0   \n",
       "2  12771762  202207  15990.0   2.27          7044.05  11.66  7.26        62.2   \n",
       "3  14584509  202205   3700.0   1.01          3663.37   6.37  6.42        62.0   \n",
       "4  14773748  202206   7170.0   1.00          7170.00   6.30  6.35        63.7   \n",
       "\n",
       "         y  inflation  \n",
       "0  3.67570   0.962390  \n",
       "1  3.25180   0.881565  \n",
       "2  4.51572   1.000000  \n",
       "3  3.98040   1.079663  \n",
       "4  4.04495   1.054515  "
      ],
      "text/html": [
       "<div>\n",
       "<style scoped>\n",
       "    .dataframe tbody tr th:only-of-type {\n",
       "        vertical-align: middle;\n",
       "    }\n",
       "\n",
       "    .dataframe tbody tr th {\n",
       "        vertical-align: top;\n",
       "    }\n",
       "\n",
       "    .dataframe thead th {\n",
       "        text-align: right;\n",
       "    }\n",
       "</style>\n",
       "<table border=\"1\" class=\"dataframe\">\n",
       "  <thead>\n",
       "    <tr style=\"text-align: right;\">\n",
       "      <th></th>\n",
       "      <th>Unnamed: 0</th>\n",
       "      <th>fluor</th>\n",
       "      <th>symmetry</th>\n",
       "      <th>platform</th>\n",
       "      <th>shape</th>\n",
       "      <th>color</th>\n",
       "      <th>clarity</th>\n",
       "      <th>cut</th>\n",
       "      <th>polish</th>\n",
       "      <th>id</th>\n",
       "      <th>date</th>\n",
       "      <th>price</th>\n",
       "      <th>carat</th>\n",
       "      <th>price_per_carat</th>\n",
       "      <th>z</th>\n",
       "      <th>x</th>\n",
       "      <th>depth_perc</th>\n",
       "      <th>y</th>\n",
       "      <th>inflation</th>\n",
       "    </tr>\n",
       "  </thead>\n",
       "  <tbody>\n",
       "    <tr>\n",
       "      <th>0</th>\n",
       "      <td>189202</td>\n",
       "      <td>NONE</td>\n",
       "      <td>EX</td>\n",
       "      <td>jamesallen</td>\n",
       "      <td>PS</td>\n",
       "      <td>D</td>\n",
       "      <td>SI2</td>\n",
       "      <td>NaN</td>\n",
       "      <td>EX</td>\n",
       "      <td>14224443</td>\n",
       "      <td>202205</td>\n",
       "      <td>9120.0</td>\n",
       "      <td>1.51</td>\n",
       "      <td>6039.74</td>\n",
       "      <td>10.67</td>\n",
       "      <td>6.23</td>\n",
       "      <td>59.0</td>\n",
       "      <td>3.67570</td>\n",
       "      <td>0.962390</td>\n",
       "    </tr>\n",
       "    <tr>\n",
       "      <th>1</th>\n",
       "      <td>76462</td>\n",
       "      <td>NONE</td>\n",
       "      <td>VG</td>\n",
       "      <td>jamesallen</td>\n",
       "      <td>EM</td>\n",
       "      <td>K</td>\n",
       "      <td>SI2</td>\n",
       "      <td>NaN</td>\n",
       "      <td>VG</td>\n",
       "      <td>12902293</td>\n",
       "      <td>202205</td>\n",
       "      <td>1390.0</td>\n",
       "      <td>0.91</td>\n",
       "      <td>1527.47</td>\n",
       "      <td>6.30</td>\n",
       "      <td>4.58</td>\n",
       "      <td>71.0</td>\n",
       "      <td>3.25180</td>\n",
       "      <td>0.881565</td>\n",
       "    </tr>\n",
       "    <tr>\n",
       "      <th>2</th>\n",
       "      <td>72397</td>\n",
       "      <td>NONE</td>\n",
       "      <td>VG</td>\n",
       "      <td>jamesallen</td>\n",
       "      <td>PS</td>\n",
       "      <td>J</td>\n",
       "      <td>VS1</td>\n",
       "      <td>NaN</td>\n",
       "      <td>VG</td>\n",
       "      <td>12771762</td>\n",
       "      <td>202207</td>\n",
       "      <td>15990.0</td>\n",
       "      <td>2.27</td>\n",
       "      <td>7044.05</td>\n",
       "      <td>11.66</td>\n",
       "      <td>7.26</td>\n",
       "      <td>62.2</td>\n",
       "      <td>4.51572</td>\n",
       "      <td>1.000000</td>\n",
       "    </tr>\n",
       "    <tr>\n",
       "      <th>3</th>\n",
       "      <td>269475</td>\n",
       "      <td>MED</td>\n",
       "      <td>EX</td>\n",
       "      <td>jamesallen</td>\n",
       "      <td>RD</td>\n",
       "      <td>J</td>\n",
       "      <td>SI2</td>\n",
       "      <td>EX</td>\n",
       "      <td>EX</td>\n",
       "      <td>14584509</td>\n",
       "      <td>202205</td>\n",
       "      <td>3700.0</td>\n",
       "      <td>1.01</td>\n",
       "      <td>3663.37</td>\n",
       "      <td>6.37</td>\n",
       "      <td>6.42</td>\n",
       "      <td>62.0</td>\n",
       "      <td>3.98040</td>\n",
       "      <td>1.079663</td>\n",
       "    </tr>\n",
       "    <tr>\n",
       "      <th>4</th>\n",
       "      <td>321928</td>\n",
       "      <td>NONE</td>\n",
       "      <td>EX</td>\n",
       "      <td>jamesallen</td>\n",
       "      <td>RD</td>\n",
       "      <td>G</td>\n",
       "      <td>SI1</td>\n",
       "      <td>EX</td>\n",
       "      <td>EX</td>\n",
       "      <td>14773748</td>\n",
       "      <td>202206</td>\n",
       "      <td>7170.0</td>\n",
       "      <td>1.00</td>\n",
       "      <td>7170.00</td>\n",
       "      <td>6.30</td>\n",
       "      <td>6.35</td>\n",
       "      <td>63.7</td>\n",
       "      <td>4.04495</td>\n",
       "      <td>1.054515</td>\n",
       "    </tr>\n",
       "  </tbody>\n",
       "</table>\n",
       "</div>"
      ]
     },
     "execution_count": 6,
     "metadata": {},
     "output_type": "execute_result"
    }
   ],
   "execution_count": 6
  },
  {
   "cell_type": "markdown",
   "source": "#### Задание 2: Модель",
   "metadata": {
    "id": "xuPhXT9aESGs"
   }
  },
  {
   "metadata": {},
   "cell_type": "markdown",
   "source": "Определим функцию потерь (MSE или MAE). Построим baseline и линейную модель."
  },
  {
   "metadata": {},
   "cell_type": "markdown",
   "source": [
    "Я использую Mean Absolute Error (MAE), так как она измеряет среднее абсолютное отклонение предсказаний от реальных значений. MAE показывает, насколько в среднем ошибается модель в предсказаниях, независимо от направления ошибки (переподсчёт или недоподсчёт). Это делает MAE интуитивно понятной метрикой, особенно когда важна точность предсказаний без сильного влияния на большие выбросы.\n",
    "\n",
    "Обоснование:\n",
    "\n",
    "1. MAE легко интерпретировать, поскольку она выражается в тех же единицах, что и целевая переменная.\n",
    "2. MAE устойчива к выбросам, так как ошибки взвешиваются равномерно, без усиления их влияния.\n",
    "3. Выбросы не должны существенно влиять на результат.\n",
    "\n",
    "Таким образом, MAE — оптимальный выбор для нашей задачи, где разброс цен на бриллианты значителен, но нас интересует точное среднее отклонение."
   ]
  },
  {
   "metadata": {
    "ExecuteTime": {
     "end_time": "2025-01-12T10:09:23.287920Z",
     "start_time": "2025-01-12T10:09:23.261617Z"
    }
   },
   "cell_type": "code",
   "source": "df_save = df.copy()",
   "outputs": [],
   "execution_count": 7
  },
  {
   "metadata": {
    "ExecuteTime": {
     "end_time": "2025-01-12T10:09:24.472672Z",
     "start_time": "2025-01-12T10:09:24.352738Z"
    }
   },
   "cell_type": "code",
   "source": [
    "# Кодирование категориальных признаков\n",
    "label_encoders = {}\n",
    "categorical_features = ['fluor', 'symmetry', 'platform', 'shape', 'color', 'clarity', 'cut', 'polish']\n",
    "for col in categorical_features:\n",
    "    le = LabelEncoder()\n",
    "    df[col] = le.fit_transform(df[col])\n",
    "    label_encoders[col] = le"
   ],
   "outputs": [],
   "execution_count": 8
  },
  {
   "cell_type": "code",
   "source": [
    "# Разделение данных\n",
    "X = df.drop(columns=[\"price\"])  # исключаем целевую переменную\n",
    "y = df[\"price\"]  # целевая переменная\n",
    "X_train, X_valid, y_train, y_valid = train_test_split(X, y, test_size=0.2, random_state=13)"
   ],
   "metadata": {
    "id": "BEvWYr1uEKJU",
    "ExecuteTime": {
     "end_time": "2025-01-12T10:09:44.672169Z",
     "start_time": "2025-01-12T10:09:44.608605Z"
    }
   },
   "outputs": [],
   "execution_count": 9
  },
  {
   "metadata": {
    "ExecuteTime": {
     "end_time": "2025-01-12T10:09:46.295088Z",
     "start_time": "2025-01-12T10:09:46.221336Z"
    }
   },
   "cell_type": "code",
   "source": [
    "# Baseline: предсказание среднего значения\n",
    "baseline_pred = [y_train.mean()] * len(y_valid)\n",
    "\n",
    "# Оценка качества Baseline\n",
    "baseline_mae = mean_absolute_error(y_valid, baseline_pred)\n",
    "print(f\"Baseline MAE: {baseline_mae}\")\n",
    "\n",
    "# Построение базовой линейной модели\n",
    "model = LinearRegression()\n",
    "model.fit(X_train, y_train)\n",
    "y_pred = model.predict(X_valid)\n",
    "\n",
    "# Оценка модели (MAE)\n",
    "mae = mean_absolute_error(y_valid, y_pred)\n",
    "print(f\"Mean Absolute Error (MAE): {mae}\")"
   ],
   "outputs": [
    {
     "name": "stdout",
     "output_type": "stream",
     "text": [
      "Baseline MAE: 6663.962655329724\n",
      "Mean Absolute Error (MAE): 2968.920111850262\n"
     ]
    }
   ],
   "execution_count": 10
  },
  {
   "metadata": {
    "ExecuteTime": {
     "end_time": "2025-01-12T10:11:07.740454Z",
     "start_time": "2025-01-12T10:11:07.705641Z"
    }
   },
   "cell_type": "code",
   "source": "df = df_save.copy()",
   "outputs": [],
   "execution_count": 11
  },
  {
   "cell_type": "markdown",
   "source": "Теперь попробуем OHE (One Hot Encoding) или TargetEncoder. Нормализуем данные. Поработаем отсутствующие значения.",
   "metadata": {
    "id": "Z9kiKhHuFDUD"
   }
  },
  {
   "metadata": {
    "ExecuteTime": {
     "end_time": "2025-01-12T10:11:14.447527Z",
     "start_time": "2025-01-12T10:11:14.272851Z"
    }
   },
   "cell_type": "code",
   "source": [
    "# Обработка отсутствующих значений\n",
    "def preprocess_missing_values(df: pd.DataFrame) -> pd.DataFrame:\n",
    "    df['fluor'] = df['fluor'].fillna('NONE')\n",
    "    df['platform'] = df['platform'].fillna('other')\n",
    "    for col in categorical_features:\n",
    "        df[col] = df[col].fillna(df[col].mode()[0])\n",
    "        df[col] = df[col].astype('category')\n",
    "    df = df.fillna(df.median(numeric_only=True))  # Заполняем численные пропуски медианой\n",
    "    return df\n",
    "\n",
    "df = preprocess_missing_values(df)\n",
    "df.info()"
   ],
   "outputs": [
    {
     "name": "stdout",
     "output_type": "stream",
     "text": [
      "<class 'pandas.core.frame.DataFrame'>\n",
      "RangeIndex: 150661 entries, 0 to 150660\n",
      "Data columns (total 18 columns):\n",
      " #   Column           Non-Null Count   Dtype   \n",
      "---  ------           --------------   -----   \n",
      " 0   Unnamed: 0       150661 non-null  int64   \n",
      " 1   fluor            150661 non-null  category\n",
      " 2   symmetry         150661 non-null  category\n",
      " 3   platform         150661 non-null  category\n",
      " 4   shape            150661 non-null  category\n",
      " 5   color            150661 non-null  category\n",
      " 6   clarity          150661 non-null  category\n",
      " 7   cut              150661 non-null  category\n",
      " 8   polish           150661 non-null  category\n",
      " 9   id               150661 non-null  int64   \n",
      " 10  date             150661 non-null  int64   \n",
      " 11  price            150661 non-null  float64 \n",
      " 12  carat            150661 non-null  float64 \n",
      " 13  price_per_carat  150661 non-null  float64 \n",
      " 14  z                150661 non-null  float64 \n",
      " 15  x                150661 non-null  float64 \n",
      " 16  depth_perc       150661 non-null  float64 \n",
      " 17  y                150661 non-null  float64 \n",
      "dtypes: category(8), float64(7), int64(3)\n",
      "memory usage: 12.6 MB\n"
     ]
    }
   ],
   "execution_count": 12
  },
  {
   "metadata": {},
   "cell_type": "markdown",
   "source": "##### TargetEncoder"
  },
  {
   "metadata": {
    "ExecuteTime": {
     "end_time": "2025-01-12T10:13:09.138647Z",
     "start_time": "2025-01-12T10:13:08.745048Z"
    }
   },
   "cell_type": "code",
   "source": [
    "# Функция для TargetEncoder\n",
    "def apply_target_encoder(train: pd.DataFrame, valid: pd.DataFrame, columns: List[str], target: pd.Series) -> Tuple[pd.DataFrame, pd.DataFrame]:\n",
    "    encoder = TargetEncoder(cols=columns)\n",
    "    train_encoded = encoder.fit_transform(train, target)\n",
    "    valid_encoded = encoder.transform(valid)\n",
    "    return train_encoded, valid_encoded\n",
    "\n",
    "# Целевая переменная и признаки\n",
    "y = df['price']\n",
    "X = df.drop(columns=['price'])\n",
    "\n",
    "# Разделение данных на обучающую и тестовую выборки\n",
    "X_train, X_valid, y_train, y_valid = train_test_split(X, y, test_size=0.2, random_state=13)\n",
    "\n",
    "# Применение TargetEncoder\n",
    "X_train_te, X_valid_te = apply_target_encoder(X_train, X_valid, categorical_features, y_train)\n",
    "\n",
    "# Нормализация данных\n",
    "scaler = StandardScaler()\n",
    "X_train_te_scaled = pd.DataFrame(scaler.fit_transform(X_train_te), columns=X_train_te.columns)\n",
    "X_valid_te_scaled = pd.DataFrame(scaler.transform(X_valid_te), columns=X_valid_te.columns)\n",
    "\n",
    "# Линейная модель для TargetEncoder\n",
    "model_te = LinearRegression()\n",
    "model_te.fit(X_train_te_scaled, y_train)\n",
    "y_pred_te = model_te.predict(X_valid_te_scaled)\n",
    "mae_te = mean_absolute_error(y_valid, y_pred_te)\n",
    "\n",
    "print(f\"MAE (TargetEncoder): {mae_te}\")"
   ],
   "outputs": [
    {
     "name": "stdout",
     "output_type": "stream",
     "text": [
      "MAE (TargetEncoder): 3032.321746344459\n"
     ]
    }
   ],
   "execution_count": 14
  },
  {
   "metadata": {},
   "cell_type": "markdown",
   "source": "##### OHE (One Hot Encoding)"
  },
  {
   "cell_type": "code",
   "source": [
    "# Функция для OHE\n",
    "def OHE(df: pd.DataFrame, columns: List[str]) -> Tuple[pd.DataFrame, List[str]]:\n",
    "    index = df.index\n",
    "    one = OneHotEncoder(sparse_output=False, categories='auto')\n",
    "    ohe = one.fit_transform(df[columns])\n",
    "    col_names = one.get_feature_names_out(input_features=columns)\n",
    "    df = df.drop(columns, axis=1)\n",
    "    df = df.reset_index(drop=True)\n",
    "    df = pd.concat([df, pd.DataFrame(ohe, columns=col_names)], axis=1)\n",
    "    df = df.set_index(index)\n",
    "    return df, list(col_names)\n",
    "\n",
    "\n",
    "df_ohe, ohe_columns = OHE(df, categorical_features)\n",
    "\n",
    "# Разделение данных\n",
    "X = df_ohe.drop(columns=[\"price\"])  # Целевой признак исключаем\n",
    "y = df_ohe[\"price\"]\n",
    "\n",
    "X_train, X_valid, y_train, y_valid = train_test_split(X, y, test_size=0.2, random_state=13)\n",
    "\n",
    "# Нормализация численных данных (после разделения)\n",
    "scaler = StandardScaler()\n",
    "X_train_ohe_scaled = pd.DataFrame(scaler.fit_transform(X_train), columns=X_train.columns)\n",
    "X_valid_ohe_scaled = pd.DataFrame(scaler.transform(X_valid), columns=X_valid.columns)\n",
    "\n",
    "# Построение линейной модели\n",
    "model = LinearRegression()\n",
    "model.fit(X_train_ohe_scaled, y_train)\n",
    "y_pred = model.predict(X_valid_ohe_scaled)\n",
    "mae_ohe = mean_absolute_error(y_valid, y_pred)\n",
    "\n",
    "# Вывод результатов\n",
    "print(f\"MAE (OHE): {mae_ohe}\")"
   ],
   "metadata": {
    "id": "becHgg71Iria",
    "ExecuteTime": {
     "end_time": "2025-01-12T10:13:11.121191Z",
     "start_time": "2025-01-12T10:13:10.399007Z"
    }
   },
   "outputs": [
    {
     "name": "stdout",
     "output_type": "stream",
     "text": [
      "MAE (OHE): 2167.210564628672\n"
     ]
    }
   ],
   "execution_count": 15
  },
  {
   "metadata": {},
   "cell_type": "markdown",
   "source": "#### Выполним подготовку данных "
  },
  {
   "metadata": {
    "ExecuteTime": {
     "end_time": "2025-01-12T10:13:14.321621Z",
     "start_time": "2025-01-12T10:13:13.808849Z"
    }
   },
   "cell_type": "code",
   "source": [
    "df, _ = OHE(df, categorical_features)\n",
    "\n",
    "X = df.drop(columns=[\"price\"])  # Целевой признак исключаем\n",
    "y = df[\"price\"]\n",
    "\n",
    "X_train, X_valid, y_train, y_valid = train_test_split(X, y, test_size=0.2, random_state=13)\n",
    "\n",
    "# Нормализация численных данных (после разделения)\n",
    "scaler = StandardScaler()\n",
    "X_train = pd.DataFrame(scaler.fit_transform(X_train), columns=X_train.columns)\n",
    "X_valid = pd.DataFrame(scaler.transform(X_valid), columns=X_valid.columns)\n"
   ],
   "outputs": [],
   "execution_count": 16
  },
  {
   "cell_type": "markdown",
   "source": "### KNN",
   "metadata": {
    "id": "tnJUqYqWoqgk"
   }
  },
  {
   "cell_type": "code",
   "source": [
    "# Построение модели KNN\n",
    "model = KNeighborsRegressor(n_neighbors=5)  # Количество соседей можно варьировать\n",
    "model.fit(X_train, y_train)\n",
    "y_pred = model.predict(X_valid)\n",
    "\n",
    "# Оценка качества модели\n",
    "mae = mean_absolute_error(y_valid, y_pred)\n",
    "print(f\"Mean Absolute Error (MAE) using KNN: {mae}\")"
   ],
   "metadata": {
    "id": "bhKgkdw5ou4A",
    "ExecuteTime": {
     "end_time": "2025-01-12T10:15:26.174747Z",
     "start_time": "2025-01-12T10:15:22.775549Z"
    }
   },
   "outputs": [
    {
     "name": "stdout",
     "output_type": "stream",
     "text": [
      "Mean Absolute Error (MAE) using KNN: 1559.390369362493\n"
     ]
    }
   ],
   "execution_count": 22
  },
  {
   "cell_type": "markdown",
   "source": "### Деревья решений",
   "metadata": {
    "id": "G99aXglOYmvU"
   }
  },
  {
   "cell_type": "code",
   "source": [
    "# Построение модели Decision Tree\n",
    "model = DecisionTreeRegressor(random_state=13)\n",
    "model.fit(X_train, y_train)\n",
    "y_pred = model.predict(X_valid)\n",
    "\n",
    "# Оценка качества модели\n",
    "mae = mean_absolute_error(y_valid, y_pred)\n",
    "print(f\"Mean Absolute Error (MAE) with Decision Tree: {mae}\")"
   ],
   "metadata": {
    "id": "OPbDQ7psYshp",
    "ExecuteTime": {
     "end_time": "2025-01-12T10:14:43.979712Z",
     "start_time": "2025-01-12T10:14:42.384446Z"
    }
   },
   "outputs": [
    {
     "name": "stdout",
     "output_type": "stream",
     "text": [
      "Mean Absolute Error (MAE) with Decision Tree: 104.27172866956492\n"
     ]
    }
   ],
   "execution_count": 18
  },
  {
   "cell_type": "markdown",
   "source": "### Ансамблевые методы",
   "metadata": {
    "id": "MeU9D2k8YvOQ"
   }
  },
  {
   "cell_type": "code",
   "source": [
    "# your code here"
   ],
   "metadata": {
    "id": "mGx1jeCvY0nF"
   },
   "execution_count": null,
   "outputs": []
  },
  {
   "cell_type": "markdown",
   "source": [
    "## Заключение"
   ],
   "metadata": {
    "id": "61wmMcD6hjpC"
   }
  },
  {
   "cell_type": "markdown",
   "source": [
    "Сравните все модели, выберите лучшую и сделайте вывод о задании в целом."
   ],
   "metadata": {
    "id": "Kr1hJwJvhm7m"
   }
  },
  {
   "cell_type": "markdown",
   "source": [
    "<Ваш вывод здесь >"
   ],
   "metadata": {
    "id": "plEERC62h7ba"
   }
  }
 ]
}
